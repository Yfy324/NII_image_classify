{
 "cells": [
  {
   "cell_type": "code",
   "execution_count": 1,
   "id": "57c0bf64",
   "metadata": {},
   "outputs": [],
   "source": [
    "import joblib\n",
    "import numpy as np\n",
    "import pandas as pd\n",
    "import matplotlib.pyplot as plt\n",
    "import xgboost as xgb\n",
    "from xgboost import XGBClassifier as XGBC\n",
    "from sklearn.metrics import confusion_matrix as cm, recall_score as recall, roc_auc_score as auc\n",
    "from sklearn.model_selection import KFold, cross_val_score as CVS, train_test_split as TTS\n",
    "from sklearn.metrics import mean_squared_error as MSE\n",
    "from sklearn.preprocessing import StandardScaler\n",
    "from sklearn.decomposition import PCA"
   ]
  },
  {
   "cell_type": "code",
   "execution_count": 2,
   "id": "07dd7cec",
   "metadata": {},
   "outputs": [],
   "source": [
    "Xtrain, Ytrain, Xval, Yval = joblib.load('4c_new_bof_f120.pkl')"
   ]
  },
  {
   "cell_type": "code",
   "execution_count": 3,
   "id": "979a6130",
   "metadata": {},
   "outputs": [
    {
     "data": {
      "text/plain": [
       "(11199, 120)"
      ]
     },
     "execution_count": 3,
     "metadata": {},
     "output_type": "execute_result"
    }
   ],
   "source": [
    "Xtrain.shape"
   ]
  },
  {
   "cell_type": "code",
   "execution_count": 4,
   "id": "edb4b9f5",
   "metadata": {},
   "outputs": [
    {
     "data": {
      "text/plain": [
       "(11199,)"
      ]
     },
     "execution_count": 4,
     "metadata": {},
     "output_type": "execute_result"
    }
   ],
   "source": [
    "Ytrain.shape"
   ]
  },
  {
   "cell_type": "code",
   "execution_count": 5,
   "id": "37caacb3",
   "metadata": {},
   "outputs": [
    {
     "data": {
      "text/plain": [
       "(1040, 120)"
      ]
     },
     "execution_count": 5,
     "metadata": {},
     "output_type": "execute_result"
    }
   ],
   "source": [
    "Xval.shape"
   ]
  },
  {
   "cell_type": "code",
   "execution_count": 6,
   "id": "9fd00e1b",
   "metadata": {},
   "outputs": [
    {
     "data": {
      "text/plain": [
       "(1040,)"
      ]
     },
     "execution_count": 6,
     "metadata": {},
     "output_type": "execute_result"
    }
   ],
   "source": [
    "Yval.shape"
   ]
  },
  {
   "cell_type": "code",
   "execution_count": 8,
   "id": "1fa81d60",
   "metadata": {},
   "outputs": [
    {
     "data": {
      "text/plain": [
       "0.38846153846153847"
      ]
     },
     "execution_count": 8,
     "metadata": {},
     "output_type": "execute_result"
    }
   ],
   "source": [
    "# 未调参\n",
    "clf = XGBC(n_estimators=200\n",
    "           ,random_state=420\n",
    "           ,use_label_encoder=False\n",
    "           ,eval_metric='merror'\n",
    "           ,max_depth=6\n",
    "           ,tree_method='gpu_hist'\n",
    "           ,objective='multi:softmax'\n",
    "           ,num_class=4\n",
    "          )\n",
    "# clf = clf.fit(Xtrain,Ytrain,eval_set=[(Xval,Yval)])\n",
    "clf = clf.fit(Xtrain,Ytrain)\n",
    "clf.score(Xval,Yval)"
   ]
  },
  {
   "cell_type": "markdown",
   "id": "e87017d7",
   "metadata": {},
   "source": [
    "# 最后一批新数据"
   ]
  },
  {
   "cell_type": "code",
   "execution_count": 1,
   "id": "1b9f4e8f",
   "metadata": {},
   "outputs": [],
   "source": [
    "import numpy as np\n",
    "import pandas as pd\n",
    "import matplotlib.pyplot as plt\n",
    "import xgboost as xgb\n",
    "from xgboost import XGBClassifier as XGBC\n",
    "from sklearn.metrics import confusion_matrix as cm, recall_score as recall, roc_auc_score as auc\n",
    "from sklearn.model_selection import KFold, cross_val_score as CVS, train_test_split as TTS\n",
    "from sklearn.metrics import mean_squared_error as MSE\n",
    "from sklearn.preprocessing import StandardScaler\n",
    "from sklearn.decomposition import PCA"
   ]
  },
  {
   "cell_type": "markdown",
   "id": "8581a076",
   "metadata": {},
   "source": [
    "## 数据导入"
   ]
  },
  {
   "cell_type": "code",
   "execution_count": 2,
   "id": "f6f321de",
   "metadata": {},
   "outputs": [],
   "source": [
    "data_train = pd.read_csv('4c_train_last.csv', index_col=0)\n",
    "data_val = pd.read_csv('4c_val_last.csv', index_col=0)\n",
    "k = 150"
   ]
  },
  {
   "cell_type": "code",
   "execution_count": 3,
   "id": "1b38c7e3",
   "metadata": {},
   "outputs": [],
   "source": [
    "Xtrain = data_train.iloc[:,:k]\n",
    "Ytrain = data_train.iloc[:,-1]\n",
    "Xval = data_val.iloc[:,:k]\n",
    "Yval = data_val.iloc[:,-1]\n",
    "X = pd.concat([Xtrain,Xval],axis=0)\n",
    "Y = pd.concat([Ytrain,Yval],axis=0)"
   ]
  },
  {
   "cell_type": "code",
   "execution_count": 4,
   "id": "d3c0bfcd",
   "metadata": {},
   "outputs": [
    {
     "data": {
      "text/plain": [
       "(11200, 150)"
      ]
     },
     "execution_count": 4,
     "metadata": {},
     "output_type": "execute_result"
    }
   ],
   "source": [
    "Xtrain.shape"
   ]
  },
  {
   "cell_type": "code",
   "execution_count": 5,
   "id": "b1eb7be4",
   "metadata": {},
   "outputs": [
    {
     "data": {
      "text/plain": [
       "(11200,)"
      ]
     },
     "execution_count": 5,
     "metadata": {},
     "output_type": "execute_result"
    }
   ],
   "source": [
    "Ytrain.shape"
   ]
  },
  {
   "cell_type": "code",
   "execution_count": 6,
   "id": "1dee49f9",
   "metadata": {},
   "outputs": [
    {
     "data": {
      "text/plain": [
       "(1040, 150)"
      ]
     },
     "execution_count": 6,
     "metadata": {},
     "output_type": "execute_result"
    }
   ],
   "source": [
    "Xval.shape"
   ]
  },
  {
   "cell_type": "code",
   "execution_count": 7,
   "id": "4433fe8d",
   "metadata": {},
   "outputs": [
    {
     "data": {
      "text/plain": [
       "(1040,)"
      ]
     },
     "execution_count": 7,
     "metadata": {},
     "output_type": "execute_result"
    }
   ],
   "source": [
    "Yval.shape"
   ]
  },
  {
   "cell_type": "code",
   "execution_count": 18,
   "id": "74acb65c",
   "metadata": {},
   "outputs": [],
   "source": [
    "cv = KFold(n_splits=5, shuffle = True, random_state=42) #交叉验证模式：shuffle表示绘图前将数据打乱"
   ]
  },
  {
   "cell_type": "markdown",
   "id": "136a9620",
   "metadata": {},
   "source": [
    "## 测试模型"
   ]
  },
  {
   "cell_type": "code",
   "execution_count": 221,
   "id": "c52a74a6",
   "metadata": {},
   "outputs": [
    {
     "data": {
      "text/plain": [
       "0.6836538461538462"
      ]
     },
     "execution_count": 221,
     "metadata": {},
     "output_type": "execute_result"
    }
   ],
   "source": [
    "clf = XGBC(n_estimators=560\n",
    "           ,random_state=420\n",
    "           ,use_label_encoder=False\n",
    "           ,eval_metric='mlogloss'\n",
    "           ,max_depth=5\n",
    "           ,tree_method='gpu_hist'\n",
    "           ,objective='multi:softmax'\n",
    "           ,num_class=4\n",
    "           ,subsample=1\n",
    "           ,gamma=0\n",
    "           ,learning_rate=0.2\n",
    "           ,min_child_weight=1\n",
    "           ,colsample_bytree=0.8\n",
    "           ,colsample_bylevel=0.65\n",
    "           ,reg_alpha=0\n",
    "           ,reg_lambda=0\n",
    "          )\n",
    "# clf = clf.fit(Xtrain,Ytrain,eval_set=[(Xval,Yval)])\n",
    "clf = clf.fit(Xtrain,Ytrain)\n",
    "clf.score(Xval,Yval) "
   ]
  },
  {
   "cell_type": "code",
   "execution_count": 190,
   "id": "71f36032",
   "metadata": {},
   "outputs": [
    {
     "data": {
      "text/plain": [
       "0.6777678571428571"
      ]
     },
     "execution_count": 190,
     "metadata": {},
     "output_type": "execute_result"
    }
   ],
   "source": [
    "CVS(clf, Xtrain, Ytrain, cv=53).mean()"
   ]
  },
  {
   "cell_type": "markdown",
   "id": "6bebaacb",
   "metadata": {},
   "source": [
    "## n_estimators"
   ]
  },
  {
   "cell_type": "code",
   "execution_count": 148,
   "id": "b456e407",
   "metadata": {},
   "outputs": [
    {
     "name": "stdout",
     "output_type": "stream",
     "text": [
      "560 0.7082142857142857\n"
     ]
    },
    {
     "data": {
      "image/png": "[encoded data removed]",
      "text/plain": [
       "<Figure size 1440x360 with 1 Axes>"
      ]
     },
     "metadata": {
      "needs_background": "light"
     },
     "output_type": "display_data"
    }
   ],
   "source": [
    "axisx = range(400,611,20)\n",
    "rs = []\n",
    "for i in axisx:\n",
    "    clf = XGBC(n_estimators=i\n",
    "           ,random_state=420\n",
    "           ,use_label_encoder=False\n",
    "           ,eval_metric='mlogloss'\n",
    "           ,max_depth=6\n",
    "           ,tree_method='gpu_hist'\n",
    "           ,objective='multi:softmax'\n",
    "           ,num_class=4\n",
    "          )\n",
    "    rs.append(CVS(clf,Xtrain,Ytrain,cv=cv).mean())\n",
    "print(axisx[rs.index(max(rs))],max(rs))\n",
    "plt.figure(figsize=(20,5))\n",
    "plt.plot(axisx,rs,c=\"red\",label=\"XGB\")\n",
    "plt.legend()\n",
    "plt.show()\n",
    "# 560 0.7082142857142857"
   ]
  },
  {
   "cell_type": "code",
   "execution_count": 26,
   "id": "c82ed68a",
   "metadata": {},
   "outputs": [
    {
     "name": "stdout",
     "output_type": "stream",
     "text": [
      "850 0.7083035714285716 3.6639030612244855e-05\n",
      "200 0.700625 2.4760841836734725e-05\n",
      "850 0.7083035714285716 3.6639030612244855e-05 0.08512344547193867\n"
     ]
    },
    {
     "data": {
      "image/png": "[encoded data removed]",
      "text/plain": [
       "<Figure size 1440x360 with 1 Axes>"
      ]
     },
     "metadata": {
      "needs_background": "light"
     },
     "output_type": "display_data"
    }
   ],
   "source": [
    "axisx = range(50,1050,50)\n",
    "rs = []\n",
    "var = []\n",
    "ge = []\n",
    "for i in axisx:\n",
    "    clf = XGBC(n_estimators=i\n",
    "               ,random_state=420\n",
    "               ,use_label_encoder=False\n",
    "               ,eval_metric='mlogloss'\n",
    "               ,max_depth=6\n",
    "               ,tree_method='gpu_hist'\n",
    "               ,objective='multi:softmax'\n",
    "               ,num_class=4\n",
    "              )\n",
    "    cvresult = CVS(clf,Xtrain,Ytrain,cv=cv)\n",
    "    #记录1-偏差\n",
    "    rs.append(cvresult.mean())\n",
    "    #记录方差\n",
    "    var.append(cvresult.var())\n",
    "    #计算泛化误差的可控部分\n",
    "    ge.append((1 - cvresult.mean())**2+cvresult.var())\n",
    "#打印R2最高所对应的参数取值，并打印这个参数下的方差\n",
    "print(axisx[rs.index(max(rs))],max(rs),var[rs.index(max(rs))])\n",
    "#打印方差最低时对应的参数取值，并打印这个参数下的R2\n",
    "print(axisx[var.index(min(var))],rs[var.index(min(var))],min(var))\n",
    "#打印泛化误差可控部分的参数取值，并打印这个参数下的R2，方差以及泛化误差的可控部分\n",
    "print(axisx[ge.index(min(ge))],rs[ge.index(min(ge))],var[ge.index(min(ge))],min(ge))\n",
    "plt.figure(figsize=(20,5))\n",
    "plt.plot(axisx,rs,c=\"red\",label=\"XGB\")\n",
    "plt.legend()\n",
    "plt.show()"
   ]
  },
  {
   "cell_type": "markdown",
   "id": "04251941",
   "metadata": {},
   "source": [
    "## subsample"
   ]
  },
  {
   "cell_type": "code",
   "execution_count": 185,
   "id": "b290e35e",
   "metadata": {},
   "outputs": [
    {
     "name": "stdout",
     "output_type": "stream",
     "text": [
      "0.7500000000000001 0.6836607142857143\n"
     ]
    },
    {
     "data": {
      "image/png": "[encoded data removed]",
      "text/plain": [
       "<Figure size 1440x360 with 1 Axes>"
      ]
     },
     "metadata": {
      "needs_background": "light"
     },
     "output_type": "display_data"
    }
   ],
   "source": [
    "axisx = np.arange(0.05,1,0.05)\n",
    "rs = []\n",
    "for i in axisx:\n",
    "    clf = XGBC(n_estimators=560\n",
    "               ,subsample=i\n",
    "               ,random_state=420\n",
    "               ,use_label_encoder=False\n",
    "               ,eval_metric='mlogloss'\n",
    "               ,max_depth=5\n",
    "               ,tree_method='gpu_hist'\n",
    "               ,objective='multi:softmax'\n",
    "               ,num_class=4\n",
    "               ,learning_rate=0.25\n",
    "              )\n",
    "    rs.append(CVS(clf,Xtrain,Ytrain,cv=2).mean())\n",
    "print(axisx[rs.index(max(rs))],max(rs))\n",
    "plt.figure(figsize=(20,5))\n",
    "plt.plot(axisx,rs,c=\"red\",label=\"XGB\")\n",
    "plt.legend()\n",
    "plt.show()\n",
    "# 0.831578947368421"
   ]
  },
  {
   "cell_type": "markdown",
   "id": "ad1b3c35",
   "metadata": {},
   "source": [
    "## predict接口"
   ]
  },
  {
   "cell_type": "code",
   "execution_count": 109,
   "id": "313c9d14",
   "metadata": {},
   "outputs": [],
   "source": [
    "ypred = clf.predict(Xval)"
   ]
  },
  {
   "cell_type": "code",
   "execution_count": 85,
   "id": "31b5642e",
   "metadata": {
    "scrolled": true
   },
   "outputs": [
    {
     "data": {
      "text/plain": [
       "array([[1.2924260e-01, 8.6938518e-01, 2.2953418e-04, 1.1427285e-03],\n",
       "       [9.8960602e-01, 3.1495441e-04, 9.2474427e-03, 8.3162519e-04],\n",
       "       [9.9991488e-01, 6.8456386e-05, 1.6580592e-05, 1.5925345e-08],\n",
       "       [9.9987912e-01, 1.0401659e-04, 1.6831542e-05, 2.1192228e-09],\n",
       "       [1.0231994e-01, 1.2660409e-02, 8.6984682e-01, 1.5172841e-02],\n",
       "       [3.7747952e-03, 6.6087209e-02, 2.4107811e-03, 9.2772722e-01],\n",
       "       [1.8263936e-01, 6.9088370e-01, 9.6251898e-02, 3.0225094e-02],\n",
       "       [9.7637957e-01, 9.1072693e-03, 1.4507141e-02, 6.0601974e-06],\n",
       "       [9.9862754e-01, 9.0751064e-04, 4.6107176e-04, 3.8952176e-06],\n",
       "       [9.9624348e-01, 2.6388988e-03, 1.1172916e-03, 3.8174957e-07]],\n",
       "      dtype=float32)"
      ]
     },
     "execution_count": 85,
     "metadata": {},
     "output_type": "execute_result"
    }
   ],
   "source": [
    "clf.predict_proba(Xval)[:10]"
   ]
  },
  {
   "cell_type": "code",
   "execution_count": 110,
   "id": "1e0864aa",
   "metadata": {},
   "outputs": [],
   "source": [
    "y_prob = clf.predict_proba(Xval)\n",
    "full_pred = []\n",
    "for i in range(len(y_prob)):\n",
    "    a = y_prob[i]\n",
    "    full_pred.append(sorted(range(4),key=lambda k: a[k],reverse = True))"
   ]
  },
  {
   "cell_type": "code",
   "execution_count": 111,
   "id": "744ea67c",
   "metadata": {
    "collapsed": true
   },
   "outputs": [
    {
     "data": {
      "text/plain": [
       "[[1, 0, 3, 2],\n",
       " [0, 2, 3, 1],\n",
       " [0, 1, 2, 3],\n",
       " [0, 1, 2, 3],\n",
       " [2, 0, 3, 1],\n",
       " [3, 1, 0, 2],\n",
       " [1, 0, 2, 3],\n",
       " [0, 2, 1, 3],\n",
       " [0, 1, 2, 3],\n",
       " [0, 1, 2, 3],\n",
       " [0, 1, 2, 3],\n",
       " [0, 2, 1, 3],\n",
       " [0, 1, 2, 3],\n",
       " [0, 1, 3, 2],\n",
       " [0, 2, 1, 3],\n",
       " [0, 2, 1, 3],\n",
       " [0, 1, 2, 3],\n",
       " [0, 1, 3, 2],\n",
       " [0, 1, 2, 3],\n",
       " [0, 2, 1, 3],\n",
       " [0, 2, 1, 3],\n",
       " [1, 3, 0, 2],\n",
       " [1, 0, 2, 3],\n",
       " [0, 2, 1, 3],\n",
       " [1, 0, 2, 3],\n",
       " [1, 3, 2, 0],\n",
       " [0, 2, 1, 3],\n",
       " [0, 1, 2, 3],\n",
       " [0, 1, 2, 3],\n",
       " [0, 2, 1, 3],\n",
       " [0, 2, 1, 3],\n",
       " [0, 1, 2, 3],\n",
       " [0, 2, 1, 3],\n",
       " [0, 1, 2, 3],\n",
       " [2, 0, 1, 3],\n",
       " [1, 0, 2, 3],\n",
       " [1, 0, 2, 3],\n",
       " [0, 2, 1, 3],\n",
       " [0, 2, 1, 3],\n",
       " [0, 1, 3, 2],\n",
       " [0, 1, 2, 3],\n",
       " [0, 2, 1, 3],\n",
       " [0, 1, 2, 3],\n",
       " [1, 2, 0, 3],\n",
       " [0, 2, 1, 3],\n",
       " [0, 2, 1, 3],\n",
       " [0, 1, 2, 3],\n",
       " [0, 2, 1, 3],\n",
       " [1, 0, 2, 3],\n",
       " [0, 1, 2, 3],\n",
       " [1, 2, 0, 3],\n",
       " [0, 1, 2, 3],\n",
       " [0, 1, 2, 3],\n",
       " [0, 2, 1, 3],\n",
       " [1, 3, 2, 0],\n",
       " [0, 2, 1, 3],\n",
       " [0, 1, 2, 3],\n",
       " [3, 1, 2, 0],\n",
       " [0, 2, 1, 3],\n",
       " [0, 1, 2, 3],\n",
       " [0, 1, 2, 3],\n",
       " [0, 2, 3, 1],\n",
       " [0, 1, 2, 3],\n",
       " [0, 2, 1, 3],\n",
       " [0, 1, 2, 3],\n",
       " [0, 2, 1, 3],\n",
       " [0, 2, 1, 3],\n",
       " [0, 1, 2, 3],\n",
       " [1, 0, 2, 3],\n",
       " [1, 0, 3, 2],\n",
       " [0, 2, 1, 3],\n",
       " [1, 3, 2, 0],\n",
       " [0, 1, 2, 3],\n",
       " [1, 0, 2, 3],\n",
       " [0, 3, 2, 1],\n",
       " [0, 1, 2, 3],\n",
       " [1, 2, 0, 3],\n",
       " [1, 0, 2, 3],\n",
       " [0, 1, 3, 2],\n",
       " [0, 1, 2, 3],\n",
       " [0, 1, 3, 2],\n",
       " [0, 1, 2, 3],\n",
       " [0, 1, 2, 3],\n",
       " [0, 2, 1, 3],\n",
       " [0, 2, 1, 3],\n",
       " [0, 2, 3, 1],\n",
       " [2, 0, 1, 3],\n",
       " [0, 2, 1, 3],\n",
       " [3, 1, 0, 2],\n",
       " [1, 0, 2, 3],\n",
       " [0, 2, 1, 3],\n",
       " [1, 0, 2, 3],\n",
       " [0, 1, 2, 3],\n",
       " [1, 0, 2, 3],\n",
       " [0, 1, 3, 2],\n",
       " [0, 1, 2, 3],\n",
       " [0, 1, 2, 3],\n",
       " [0, 2, 1, 3],\n",
       " [1, 3, 2, 0],\n",
       " [0, 1, 2, 3],\n",
       " [1, 3, 0, 2],\n",
       " [0, 2, 1, 3],\n",
       " [0, 1, 2, 3],\n",
       " [1, 2, 0, 3],\n",
       " [0, 1, 2, 3],\n",
       " [0, 2, 1, 3],\n",
       " [0, 1, 2, 3],\n",
       " [0, 1, 2, 3],\n",
       " [2, 0, 1, 3],\n",
       " [1, 0, 2, 3],\n",
       " [0, 1, 2, 3],\n",
       " [0, 2, 1, 3],\n",
       " [1, 2, 0, 3],\n",
       " [2, 0, 1, 3],\n",
       " [1, 0, 2, 3],\n",
       " [0, 1, 2, 3],\n",
       " [0, 1, 2, 3],\n",
       " [1, 0, 2, 3],\n",
       " [0, 1, 2, 3],\n",
       " [0, 1, 2, 3],\n",
       " [0, 1, 2, 3],\n",
       " [0, 1, 2, 3],\n",
       " [0, 1, 2, 3],\n",
       " [0, 1, 2, 3],\n",
       " [0, 2, 1, 3],\n",
       " [0, 3, 1, 2],\n",
       " [0, 2, 1, 3],\n",
       " [0, 1, 2, 3],\n",
       " [0, 3, 1, 2],\n",
       " [0, 1, 2, 3],\n",
       " [3, 0, 1, 2],\n",
       " [1, 0, 2, 3],\n",
       " [0, 1, 2, 3],\n",
       " [0, 2, 1, 3],\n",
       " [0, 1, 2, 3],\n",
       " [2, 0, 3, 1],\n",
       " [0, 3, 2, 1],\n",
       " [0, 3, 1, 2],\n",
       " [0, 1, 2, 3],\n",
       " [0, 1, 2, 3],\n",
       " [1, 0, 2, 3],\n",
       " [0, 2, 1, 3],\n",
       " [1, 0, 2, 3],\n",
       " [0, 1, 2, 3],\n",
       " [2, 0, 1, 3],\n",
       " [0, 1, 2, 3],\n",
       " [0, 3, 1, 2],\n",
       " [0, 2, 1, 3],\n",
       " [1, 2, 0, 3],\n",
       " [2, 3, 1, 0],\n",
       " [0, 1, 2, 3],\n",
       " [2, 0, 1, 3],\n",
       " [1, 3, 2, 0],\n",
       " [1, 0, 2, 3],\n",
       " [0, 2, 1, 3],\n",
       " [1, 0, 2, 3],\n",
       " [0, 3, 1, 2],\n",
       " [0, 1, 2, 3],\n",
       " [0, 2, 1, 3],\n",
       " [1, 0, 2, 3],\n",
       " [0, 1, 2, 3],\n",
       " [0, 2, 1, 3],\n",
       " [0, 1, 2, 3],\n",
       " [0, 2, 1, 3],\n",
       " [0, 2, 1, 3],\n",
       " [1, 2, 0, 3],\n",
       " [2, 1, 0, 3],\n",
       " [2, 1, 0, 3],\n",
       " [0, 1, 2, 3],\n",
       " [1, 0, 3, 2],\n",
       " [1, 0, 3, 2],\n",
       " [0, 1, 3, 2],\n",
       " [0, 1, 2, 3],\n",
       " [0, 1, 3, 2],\n",
       " [1, 2, 0, 3],\n",
       " [3, 1, 0, 2],\n",
       " [0, 1, 2, 3],\n",
       " [0, 1, 2, 3],\n",
       " [0, 1, 2, 3],\n",
       " [0, 1, 2, 3],\n",
       " [0, 1, 2, 3],\n",
       " [1, 0, 2, 3],\n",
       " [0, 1, 2, 3],\n",
       " [0, 1, 2, 3],\n",
       " [0, 1, 2, 3],\n",
       " [0, 1, 2, 3],\n",
       " [0, 2, 1, 3],\n",
       " [0, 1, 2, 3],\n",
       " [0, 1, 2, 3],\n",
       " [0, 2, 3, 1],\n",
       " [1, 0, 2, 3],\n",
       " [0, 1, 2, 3],\n",
       " [0, 2, 1, 3],\n",
       " [0, 2, 3, 1],\n",
       " [0, 3, 2, 1],\n",
       " [0, 2, 1, 3],\n",
       " [0, 1, 2, 3],\n",
       " [0, 1, 2, 3],\n",
       " [0, 2, 3, 1],\n",
       " [0, 2, 3, 1],\n",
       " [0, 1, 3, 2],\n",
       " [3, 1, 0, 2],\n",
       " [0, 1, 2, 3],\n",
       " [0, 2, 1, 3],\n",
       " [1, 0, 2, 3],\n",
       " [0, 2, 1, 3],\n",
       " [2, 1, 0, 3],\n",
       " [0, 1, 2, 3],\n",
       " [1, 2, 0, 3],\n",
       " [0, 2, 1, 3],\n",
       " [0, 1, 2, 3],\n",
       " [0, 2, 1, 3],\n",
       " [0, 1, 2, 3],\n",
       " [0, 1, 2, 3],\n",
       " [2, 1, 3, 0],\n",
       " [1, 0, 2, 3],\n",
       " [0, 1, 2, 3],\n",
       " [0, 1, 2, 3],\n",
       " [2, 0, 1, 3],\n",
       " [0, 2, 1, 3],\n",
       " [0, 1, 2, 3],\n",
       " [0, 2, 1, 3],\n",
       " [0, 1, 2, 3],\n",
       " [0, 1, 2, 3],\n",
       " [0, 2, 1, 3],\n",
       " [0, 1, 2, 3],\n",
       " [3, 0, 1, 2],\n",
       " [0, 1, 2, 3],\n",
       " [0, 3, 2, 1],\n",
       " [0, 2, 1, 3],\n",
       " [0, 2, 1, 3],\n",
       " [0, 1, 2, 3],\n",
       " [0, 1, 2, 3],\n",
       " [0, 1, 2, 3],\n",
       " [0, 2, 1, 3],\n",
       " [0, 1, 2, 3],\n",
       " [0, 2, 1, 3],\n",
       " [1, 2, 0, 3],\n",
       " [0, 1, 2, 3],\n",
       " [0, 1, 2, 3],\n",
       " [1, 0, 2, 3],\n",
       " [1, 2, 0, 3],\n",
       " [0, 2, 1, 3],\n",
       " [0, 1, 3, 2],\n",
       " [2, 0, 1, 3],\n",
       " [0, 1, 2, 3],\n",
       " [0, 2, 1, 3],\n",
       " [1, 0, 2, 3],\n",
       " [0, 1, 2, 3],\n",
       " [0, 2, 1, 3],\n",
       " [0, 1, 2, 3],\n",
       " [1, 0, 2, 3],\n",
       " [0, 2, 1, 3],\n",
       " [0, 1, 2, 3],\n",
       " [0, 2, 1, 3],\n",
       " [3, 0, 1, 2],\n",
       " [0, 1, 2, 3],\n",
       " [1, 0, 2, 3],\n",
       " [0, 1, 2, 3],\n",
       " [0, 1, 2, 3],\n",
       " [2, 1, 0, 3],\n",
       " [1, 2, 0, 3],\n",
       " [2, 3, 1, 0],\n",
       " [1, 0, 2, 3],\n",
       " [1, 0, 2, 3],\n",
       " [1, 2, 0, 3],\n",
       " [0, 1, 2, 3],\n",
       " [1, 2, 0, 3],\n",
       " [0, 1, 2, 3],\n",
       " [1, 3, 2, 0],\n",
       " [3, 1, 2, 0],\n",
       " [1, 0, 2, 3],\n",
       " [3, 1, 2, 0],\n",
       " [1, 2, 0, 3],\n",
       " [0, 1, 2, 3],\n",
       " [2, 1, 0, 3],\n",
       " [1, 0, 2, 3],\n",
       " [2, 1, 0, 3],\n",
       " [1, 0, 2, 3],\n",
       " [1, 0, 2, 3],\n",
       " [1, 0, 2, 3],\n",
       " [1, 0, 2, 3],\n",
       " [2, 1, 0, 3],\n",
       " [2, 0, 1, 3],\n",
       " [0, 2, 1, 3],\n",
       " [3, 1, 0, 2],\n",
       " [1, 0, 2, 3],\n",
       " [1, 0, 2, 3],\n",
       " [3, 1, 0, 2],\n",
       " [2, 1, 0, 3],\n",
       " [0, 2, 1, 3],\n",
       " [1, 2, 0, 3],\n",
       " [0, 1, 2, 3],\n",
       " [2, 0, 1, 3],\n",
       " [3, 1, 2, 0],\n",
       " [0, 1, 2, 3],\n",
       " [1, 2, 0, 3],\n",
       " [0, 1, 2, 3],\n",
       " [1, 0, 2, 3],\n",
       " [1, 2, 0, 3],\n",
       " [1, 2, 0, 3],\n",
       " [1, 0, 2, 3],\n",
       " [1, 0, 2, 3],\n",
       " [1, 2, 0, 3],\n",
       " [0, 1, 2, 3],\n",
       " [1, 0, 2, 3],\n",
       " [2, 3, 1, 0],\n",
       " [1, 0, 3, 2],\n",
       " [1, 0, 2, 3],\n",
       " [3, 1, 2, 0],\n",
       " [1, 2, 0, 3],\n",
       " [0, 1, 3, 2],\n",
       " [1, 0, 2, 3],\n",
       " [0, 1, 2, 3],\n",
       " [1, 2, 0, 3],\n",
       " [2, 1, 0, 3],\n",
       " [1, 0, 2, 3],\n",
       " [1, 0, 3, 2],\n",
       " [1, 3, 0, 2],\n",
       " [1, 0, 2, 3],\n",
       " [1, 2, 0, 3],\n",
       " [1, 3, 2, 0],\n",
       " [1, 0, 2, 3],\n",
       " [0, 1, 2, 3],\n",
       " [2, 0, 1, 3],\n",
       " [1, 3, 2, 0],\n",
       " [1, 3, 0, 2],\n",
       " [1, 3, 0, 2],\n",
       " [2, 1, 3, 0],\n",
       " [1, 3, 2, 0],\n",
       " [2, 1, 0, 3],\n",
       " [1, 0, 2, 3],\n",
       " [1, 0, 3, 2],\n",
       " [1, 0, 3, 2],\n",
       " [1, 2, 0, 3],\n",
       " [0, 1, 2, 3],\n",
       " [1, 0, 3, 2],\n",
       " [2, 1, 0, 3],\n",
       " [0, 1, 2, 3],\n",
       " [0, 1, 2, 3],\n",
       " [1, 0, 2, 3],\n",
       " [1, 0, 2, 3],\n",
       " [1, 2, 0, 3],\n",
       " [1, 0, 2, 3],\n",
       " [1, 3, 0, 2],\n",
       " [3, 1, 2, 0],\n",
       " [1, 0, 2, 3],\n",
       " [0, 1, 2, 3],\n",
       " [1, 0, 2, 3],\n",
       " [1, 0, 2, 3],\n",
       " [1, 0, 3, 2],\n",
       " [0, 1, 2, 3],\n",
       " [1, 0, 3, 2],\n",
       " [3, 2, 1, 0],\n",
       " [1, 0, 2, 3],\n",
       " [0, 2, 1, 3],\n",
       " [1, 0, 2, 3],\n",
       " [1, 0, 2, 3],\n",
       " [1, 0, 2, 3],\n",
       " [1, 3, 2, 0],\n",
       " [1, 3, 2, 0],\n",
       " [0, 1, 2, 3],\n",
       " [1, 0, 2, 3],\n",
       " [1, 3, 2, 0],\n",
       " [0, 1, 2, 3],\n",
       " [1, 2, 0, 3],\n",
       " [1, 2, 0, 3],\n",
       " [1, 0, 2, 3],\n",
       " [2, 1, 0, 3],\n",
       " [2, 1, 0, 3],\n",
       " [3, 2, 0, 1],\n",
       " [1, 0, 2, 3],\n",
       " [1, 0, 2, 3],\n",
       " [2, 1, 0, 3],\n",
       " [2, 1, 0, 3],\n",
       " [1, 2, 0, 3],\n",
       " [0, 1, 2, 3],\n",
       " [2, 1, 0, 3],\n",
       " [2, 0, 1, 3],\n",
       " [1, 2, 3, 0],\n",
       " [1, 3, 0, 2],\n",
       " [1, 0, 2, 3],\n",
       " [1, 2, 0, 3],\n",
       " [1, 3, 0, 2],\n",
       " [3, 0, 1, 2],\n",
       " [0, 1, 2, 3],\n",
       " [0, 1, 2, 3],\n",
       " [1, 0, 2, 3],\n",
       " [3, 1, 2, 0],\n",
       " [0, 1, 2, 3],\n",
       " [0, 1, 2, 3],\n",
       " [2, 1, 0, 3],\n",
       " [3, 2, 1, 0],\n",
       " [1, 0, 2, 3],\n",
       " [2, 1, 0, 3],\n",
       " [1, 0, 2, 3],\n",
       " [1, 0, 2, 3],\n",
       " [2, 1, 3, 0],\n",
       " [1, 0, 3, 2],\n",
       " [0, 1, 3, 2],\n",
       " [1, 0, 2, 3],\n",
       " [1, 0, 2, 3],\n",
       " [1, 0, 2, 3],\n",
       " [0, 1, 3, 2],\n",
       " [1, 0, 2, 3],\n",
       " [3, 1, 0, 2],\n",
       " [1, 0, 2, 3],\n",
       " [1, 0, 2, 3],\n",
       " [0, 1, 2, 3],\n",
       " [2, 1, 0, 3],\n",
       " [1, 0, 2, 3],\n",
       " [1, 0, 3, 2],\n",
       " [0, 1, 2, 3],\n",
       " [1, 2, 0, 3],\n",
       " [1, 0, 2, 3],\n",
       " [1, 0, 2, 3],\n",
       " [3, 2, 0, 1],\n",
       " [1, 3, 2, 0],\n",
       " [2, 1, 0, 3],\n",
       " [1, 3, 0, 2],\n",
       " [0, 1, 2, 3],\n",
       " [2, 1, 3, 0],\n",
       " [2, 0, 1, 3],\n",
       " [1, 0, 3, 2],\n",
       " [1, 2, 0, 3],\n",
       " [1, 3, 0, 2],\n",
       " [2, 1, 0, 3],\n",
       " [0, 1, 2, 3],\n",
       " [2, 1, 0, 3],\n",
       " [3, 1, 2, 0],\n",
       " [1, 0, 2, 3],\n",
       " [0, 1, 2, 3],\n",
       " [1, 0, 2, 3],\n",
       " [0, 1, 2, 3],\n",
       " [0, 1, 2, 3],\n",
       " [1, 0, 2, 3],\n",
       " [3, 1, 0, 2],\n",
       " [2, 0, 1, 3],\n",
       " [1, 0, 2, 3],\n",
       " [1, 2, 0, 3],\n",
       " [1, 0, 2, 3],\n",
       " [1, 3, 2, 0],\n",
       " [2, 1, 0, 3],\n",
       " [1, 0, 2, 3],\n",
       " [1, 0, 2, 3],\n",
       " [2, 1, 0, 3],\n",
       " [0, 1, 2, 3],\n",
       " [1, 2, 0, 3],\n",
       " [1, 0, 2, 3],\n",
       " [1, 0, 2, 3],\n",
       " [1, 0, 2, 3],\n",
       " [1, 0, 2, 3],\n",
       " [0, 1, 3, 2],\n",
       " [2, 1, 0, 3],\n",
       " [1, 0, 2, 3],\n",
       " [3, 1, 2, 0],\n",
       " [1, 2, 0, 3],\n",
       " [0, 2, 1, 3],\n",
       " [2, 1, 0, 3],\n",
       " [2, 1, 0, 3],\n",
       " [0, 1, 3, 2],\n",
       " [0, 3, 1, 2],\n",
       " [1, 2, 0, 3],\n",
       " [0, 1, 3, 2],\n",
       " [2, 1, 3, 0],\n",
       " [0, 3, 1, 2],\n",
       " [2, 0, 1, 3],\n",
       " [1, 0, 3, 2],\n",
       " [2, 1, 3, 0],\n",
       " [1, 0, 2, 3],\n",
       " [2, 0, 1, 3],\n",
       " [1, 2, 0, 3],\n",
       " [2, 1, 0, 3],\n",
       " [1, 0, 2, 3],\n",
       " [0, 1, 2, 3],\n",
       " [1, 0, 2, 3],\n",
       " [1, 3, 2, 0],\n",
       " [1, 0, 2, 3],\n",
       " [0, 2, 1, 3],\n",
       " [1, 3, 0, 2],\n",
       " [1, 2, 0, 3],\n",
       " [1, 2, 0, 3],\n",
       " [3, 2, 1, 0],\n",
       " [1, 0, 2, 3],\n",
       " [1, 2, 0, 3],\n",
       " [1, 0, 2, 3],\n",
       " [1, 3, 0, 2],\n",
       " [1, 0, 2, 3],\n",
       " [1, 0, 3, 2],\n",
       " [2, 1, 3, 0],\n",
       " [1, 2, 0, 3],\n",
       " [1, 0, 2, 3],\n",
       " [1, 2, 0, 3],\n",
       " [0, 1, 2, 3],\n",
       " [2, 0, 1, 3],\n",
       " [1, 0, 3, 2],\n",
       " [2, 1, 0, 3],\n",
       " [1, 0, 2, 3],\n",
       " [0, 1, 2, 3],\n",
       " [1, 0, 2, 3],\n",
       " [0, 1, 3, 2],\n",
       " [3, 2, 0, 1],\n",
       " [0, 1, 2, 3],\n",
       " [1, 0, 2, 3],\n",
       " [1, 0, 2, 3],\n",
       " [1, 2, 0, 3],\n",
       " [1, 0, 2, 3],\n",
       " [0, 1, 2, 3],\n",
       " [3, 1, 0, 2],\n",
       " [1, 0, 3, 2],\n",
       " [1, 2, 0, 3],\n",
       " [1, 0, 2, 3],\n",
       " [1, 2, 0, 3],\n",
       " [1, 0, 2, 3],\n",
       " [0, 1, 2, 3],\n",
       " [2, 1, 3, 0],\n",
       " [2, 1, 3, 0],\n",
       " [1, 0, 2, 3],\n",
       " [1, 0, 2, 3],\n",
       " [1, 0, 2, 3],\n",
       " [2, 0, 1, 3],\n",
       " [2, 1, 0, 3],\n",
       " [0, 2, 1, 3],\n",
       " [2, 1, 0, 3],\n",
       " [1, 0, 2, 3],\n",
       " [0, 2, 1, 3],\n",
       " [0, 1, 2, 3],\n",
       " [2, 1, 0, 3],\n",
       " [1, 3, 2, 0],\n",
       " [0, 2, 1, 3],\n",
       " [2, 3, 0, 1],\n",
       " [2, 1, 0, 3],\n",
       " [1, 2, 0, 3],\n",
       " [3, 1, 2, 0],\n",
       " [1, 2, 0, 3],\n",
       " [1, 3, 0, 2],\n",
       " [2, 0, 1, 3],\n",
       " [2, 1, 0, 3],\n",
       " [0, 2, 1, 3],\n",
       " [2, 0, 1, 3],\n",
       " [2, 0, 1, 3],\n",
       " [2, 0, 1, 3],\n",
       " [2, 1, 0, 3],\n",
       " [0, 1, 2, 3],\n",
       " [2, 1, 0, 3],\n",
       " [1, 2, 0, 3],\n",
       " [2, 0, 1, 3],\n",
       " [3, 2, 1, 0],\n",
       " [2, 1, 0, 3],\n",
       " [2, 1, 0, 3],\n",
       " [2, 0, 3, 1],\n",
       " [1, 2, 0, 3],\n",
       " [2, 1, 0, 3],\n",
       " [2, 3, 1, 0],\n",
       " [2, 0, 1, 3],\n",
       " [2, 1, 0, 3],\n",
       " [2, 0, 1, 3],\n",
       " [0, 1, 2, 3],\n",
       " [0, 2, 1, 3],\n",
       " [1, 2, 0, 3],\n",
       " [0, 1, 2, 3],\n",
       " [3, 1, 2, 0],\n",
       " [2, 0, 1, 3],\n",
       " [3, 0, 1, 2],\n",
       " [2, 0, 1, 3],\n",
       " [2, 0, 1, 3],\n",
       " [2, 0, 1, 3],\n",
       " [3, 1, 0, 2],\n",
       " [2, 1, 0, 3],\n",
       " [2, 1, 3, 0],\n",
       " [0, 1, 2, 3],\n",
       " [2, 0, 1, 3],\n",
       " [2, 1, 3, 0],\n",
       " [2, 1, 0, 3],\n",
       " [1, 0, 2, 3],\n",
       " [2, 1, 0, 3],\n",
       " [2, 1, 0, 3],\n",
       " [1, 2, 0, 3],\n",
       " [3, 1, 2, 0],\n",
       " [2, 1, 0, 3],\n",
       " [2, 0, 1, 3],\n",
       " [2, 0, 1, 3],\n",
       " [1, 2, 0, 3],\n",
       " [2, 3, 1, 0],\n",
       " [2, 1, 0, 3],\n",
       " [1, 2, 0, 3],\n",
       " [1, 2, 0, 3],\n",
       " [1, 3, 0, 2],\n",
       " [2, 1, 3, 0],\n",
       " [2, 1, 0, 3],\n",
       " [2, 1, 0, 3],\n",
       " [3, 2, 1, 0],\n",
       " [2, 1, 3, 0],\n",
       " [2, 0, 1, 3],\n",
       " [0, 2, 1, 3],\n",
       " [2, 0, 1, 3],\n",
       " [2, 0, 1, 3],\n",
       " [2, 1, 0, 3],\n",
       " [2, 1, 0, 3],\n",
       " [0, 1, 2, 3],\n",
       " [2, 0, 1, 3],\n",
       " [2, 0, 1, 3],\n",
       " [3, 1, 0, 2],\n",
       " [2, 3, 1, 0],\n",
       " [2, 1, 3, 0],\n",
       " [1, 2, 0, 3],\n",
       " [2, 3, 1, 0],\n",
       " [3, 1, 2, 0],\n",
       " [2, 1, 0, 3],\n",
       " [3, 1, 2, 0],\n",
       " [0, 3, 1, 2],\n",
       " [2, 0, 3, 1],\n",
       " [2, 1, 0, 3],\n",
       " [0, 2, 1, 3],\n",
       " [2, 1, 0, 3],\n",
       " [2, 1, 3, 0],\n",
       " [1, 3, 2, 0],\n",
       " [2, 0, 1, 3],\n",
       " [2, 1, 0, 3],\n",
       " [1, 0, 2, 3],\n",
       " [2, 1, 3, 0],\n",
       " [0, 1, 2, 3],\n",
       " [2, 1, 0, 3],\n",
       " [2, 1, 0, 3],\n",
       " [2, 3, 1, 0],\n",
       " [2, 1, 0, 3],\n",
       " [1, 2, 0, 3],\n",
       " [2, 0, 3, 1],\n",
       " [2, 0, 3, 1],\n",
       " [1, 0, 2, 3],\n",
       " [2, 1, 3, 0],\n",
       " [2, 1, 0, 3],\n",
       " [2, 3, 1, 0],\n",
       " [2, 3, 1, 0],\n",
       " [2, 1, 0, 3],\n",
       " [2, 1, 0, 3],\n",
       " [2, 0, 1, 3],\n",
       " [1, 2, 0, 3],\n",
       " [0, 2, 1, 3],\n",
       " [2, 0, 1, 3],\n",
       " [2, 0, 1, 3],\n",
       " [2, 1, 0, 3],\n",
       " [0, 1, 3, 2],\n",
       " [1, 2, 0, 3],\n",
       " [0, 2, 1, 3],\n",
       " [0, 1, 2, 3],\n",
       " [2, 1, 0, 3],\n",
       " [0, 1, 2, 3],\n",
       " [2, 1, 0, 3],\n",
       " [0, 2, 1, 3],\n",
       " [2, 1, 0, 3],\n",
       " [2, 1, 0, 3],\n",
       " [2, 1, 0, 3],\n",
       " [2, 0, 3, 1],\n",
       " [0, 2, 1, 3],\n",
       " [2, 1, 0, 3],\n",
       " [3, 2, 0, 1],\n",
       " [2, 0, 1, 3],\n",
       " [2, 1, 3, 0],\n",
       " [1, 0, 2, 3],\n",
       " [2, 1, 0, 3],\n",
       " [1, 0, 2, 3],\n",
       " [0, 2, 1, 3],\n",
       " [0, 1, 3, 2],\n",
       " [1, 2, 0, 3],\n",
       " [2, 3, 0, 1],\n",
       " [2, 1, 0, 3],\n",
       " [2, 1, 0, 3],\n",
       " [0, 2, 1, 3],\n",
       " [2, 1, 0, 3],\n",
       " [2, 1, 0, 3],\n",
       " [2, 3, 1, 0],\n",
       " [2, 0, 1, 3],\n",
       " [2, 1, 3, 0],\n",
       " [2, 3, 0, 1],\n",
       " [2, 0, 1, 3],\n",
       " [0, 1, 2, 3],\n",
       " [0, 2, 1, 3],\n",
       " [3, 1, 2, 0],\n",
       " [2, 1, 0, 3],\n",
       " [2, 1, 0, 3],\n",
       " [2, 1, 0, 3],\n",
       " [3, 2, 1, 0],\n",
       " [2, 0, 1, 3],\n",
       " [1, 0, 2, 3],\n",
       " [2, 1, 0, 3],\n",
       " [2, 3, 1, 0],\n",
       " [3, 1, 2, 0],\n",
       " [2, 1, 0, 3],\n",
       " [2, 1, 0, 3],\n",
       " [2, 1, 0, 3],\n",
       " [2, 3, 1, 0],\n",
       " [0, 1, 2, 3],\n",
       " [2, 1, 0, 3],\n",
       " [2, 1, 0, 3],\n",
       " [3, 1, 2, 0],\n",
       " [2, 3, 0, 1],\n",
       " [2, 1, 3, 0],\n",
       " [2, 0, 1, 3],\n",
       " [2, 1, 0, 3],\n",
       " [2, 1, 0, 3],\n",
       " [1, 2, 0, 3],\n",
       " [1, 2, 0, 3],\n",
       " [0, 2, 3, 1],\n",
       " [2, 1, 0, 3],\n",
       " [3, 1, 2, 0],\n",
       " [1, 2, 3, 0],\n",
       " [2, 3, 1, 0],\n",
       " [2, 1, 3, 0],\n",
       " [2, 0, 1, 3],\n",
       " [2, 1, 0, 3],\n",
       " [2, 0, 1, 3],\n",
       " [2, 0, 1, 3],\n",
       " [2, 3, 0, 1],\n",
       " [2, 3, 1, 0],\n",
       " [0, 1, 2, 3],\n",
       " [2, 3, 1, 0],\n",
       " [2, 0, 1, 3],\n",
       " [2, 1, 0, 3],\n",
       " [1, 2, 0, 3],\n",
       " [3, 1, 2, 0],\n",
       " [2, 1, 3, 0],\n",
       " [2, 3, 1, 0],\n",
       " [3, 1, 0, 2],\n",
       " [2, 1, 0, 3],\n",
       " [0, 2, 1, 3],\n",
       " [2, 0, 1, 3],\n",
       " [2, 0, 1, 3],\n",
       " [3, 0, 2, 1],\n",
       " [2, 0, 1, 3],\n",
       " [0, 1, 2, 3],\n",
       " [2, 0, 1, 3],\n",
       " [2, 1, 0, 3],\n",
       " [0, 2, 1, 3],\n",
       " [0, 1, 2, 3],\n",
       " [2, 1, 0, 3],\n",
       " [2, 1, 0, 3],\n",
       " [2, 1, 0, 3],\n",
       " [2, 1, 0, 3],\n",
       " [2, 0, 3, 1],\n",
       " [2, 1, 0, 3],\n",
       " [2, 0, 1, 3],\n",
       " [2, 1, 0, 3],\n",
       " [2, 0, 1, 3],\n",
       " [2, 0, 1, 3],\n",
       " [2, 1, 3, 0],\n",
       " [2, 1, 0, 3],\n",
       " [3, 2, 1, 0],\n",
       " [0, 1, 2, 3],\n",
       " [2, 0, 3, 1],\n",
       " [2, 1, 3, 0],\n",
       " [2, 0, 3, 1],\n",
       " [2, 1, 0, 3],\n",
       " [2, 3, 1, 0],\n",
       " [2, 1, 3, 0],\n",
       " [2, 0, 1, 3],\n",
       " [2, 1, 0, 3],\n",
       " [0, 3, 2, 1],\n",
       " [0, 1, 2, 3],\n",
       " [1, 0, 2, 3],\n",
       " [0, 2, 1, 3],\n",
       " [2, 1, 0, 3],\n",
       " [2, 1, 0, 3],\n",
       " [0, 1, 2, 3],\n",
       " [1, 2, 3, 0],\n",
       " [2, 1, 0, 3],\n",
       " [2, 0, 1, 3],\n",
       " [0, 2, 1, 3],\n",
       " [0, 3, 2, 1],\n",
       " [2, 1, 0, 3],\n",
       " [0, 2, 1, 3],\n",
       " [2, 3, 0, 1],\n",
       " [2, 0, 3, 1],\n",
       " [2, 0, 3, 1],\n",
       " [2, 1, 0, 3],\n",
       " [2, 3, 1, 0],\n",
       " [1, 2, 0, 3],\n",
       " [2, 3, 0, 1],\n",
       " [1, 2, 0, 3],\n",
       " [2, 0, 1, 3],\n",
       " [3, 1, 2, 0],\n",
       " [3, 1, 2, 0],\n",
       " [3, 1, 2, 0],\n",
       " [3, 1, 0, 2],\n",
       " [3, 2, 1, 0],\n",
       " [3, 1, 2, 0],\n",
       " [1, 3, 0, 2],\n",
       " [3, 1, 2, 0],\n",
       " [3, 1, 0, 2],\n",
       " [3, 1, 2, 0],\n",
       " [3, 2, 1, 0],\n",
       " [3, 1, 2, 0],\n",
       " [3, 2, 1, 0],\n",
       " [3, 1, 2, 0],\n",
       " [3, 2, 1, 0],\n",
       " [3, 2, 1, 0],\n",
       " [3, 0, 2, 1],\n",
       " [3, 1, 0, 2],\n",
       " [1, 2, 3, 0],\n",
       " [3, 0, 2, 1],\n",
       " [3, 2, 0, 1],\n",
       " [3, 1, 0, 2],\n",
       " [3, 1, 0, 2],\n",
       " [3, 2, 1, 0],\n",
       " [3, 1, 2, 0],\n",
       " [2, 1, 0, 3],\n",
       " [3, 1, 0, 2],\n",
       " [3, 2, 1, 0],\n",
       " [3, 2, 1, 0],\n",
       " [3, 2, 0, 1],\n",
       " [3, 2, 1, 0],\n",
       " [3, 2, 1, 0],\n",
       " [3, 1, 2, 0],\n",
       " [1, 2, 0, 3],\n",
       " [3, 1, 2, 0],\n",
       " [3, 1, 0, 2],\n",
       " [3, 2, 1, 0],\n",
       " [3, 2, 1, 0],\n",
       " [3, 1, 2, 0],\n",
       " [3, 1, 2, 0],\n",
       " [3, 1, 2, 0],\n",
       " [3, 2, 1, 0],\n",
       " [2, 3, 1, 0],\n",
       " [3, 2, 1, 0],\n",
       " [1, 3, 0, 2],\n",
       " [3, 1, 2, 0],\n",
       " [3, 1, 0, 2],\n",
       " [3, 1, 0, 2],\n",
       " [3, 1, 0, 2],\n",
       " [0, 1, 2, 3],\n",
       " [3, 2, 0, 1],\n",
       " [3, 1, 0, 2],\n",
       " [3, 2, 1, 0],\n",
       " [3, 1, 2, 0],\n",
       " [3, 0, 2, 1],\n",
       " [3, 1, 2, 0],\n",
       " [1, 3, 2, 0],\n",
       " [3, 2, 1, 0],\n",
       " [3, 2, 1, 0],\n",
       " [3, 2, 1, 0],\n",
       " [1, 0, 2, 3],\n",
       " [1, 2, 3, 0],\n",
       " [3, 1, 0, 2],\n",
       " [3, 1, 0, 2],\n",
       " [3, 1, 0, 2],\n",
       " [3, 2, 1, 0],\n",
       " [3, 2, 1, 0],\n",
       " [3, 0, 1, 2],\n",
       " [3, 1, 0, 2],\n",
       " [3, 1, 0, 2],\n",
       " [3, 1, 2, 0],\n",
       " [3, 0, 2, 1],\n",
       " [3, 1, 2, 0],\n",
       " [3, 2, 1, 0],\n",
       " [3, 2, 1, 0],\n",
       " [3, 1, 2, 0],\n",
       " [3, 1, 0, 2],\n",
       " [3, 1, 2, 0],\n",
       " [3, 1, 0, 2],\n",
       " [3, 1, 0, 2],\n",
       " [3, 1, 2, 0],\n",
       " [3, 1, 0, 2],\n",
       " [1, 3, 0, 2],\n",
       " [1, 3, 2, 0],\n",
       " [3, 2, 1, 0],\n",
       " [3, 2, 1, 0],\n",
       " [1, 3, 0, 2],\n",
       " [1, 0, 3, 2],\n",
       " [3, 2, 1, 0],\n",
       " [3, 2, 1, 0],\n",
       " [0, 1, 2, 3],\n",
       " [3, 1, 2, 0],\n",
       " [3, 2, 1, 0],\n",
       " [3, 2, 1, 0],\n",
       " [3, 1, 0, 2],\n",
       " [3, 1, 0, 2],\n",
       " [3, 1, 0, 2],\n",
       " [3, 1, 0, 2],\n",
       " [2, 3, 1, 0],\n",
       " [3, 1, 0, 2],\n",
       " [3, 1, 2, 0],\n",
       " [3, 1, 2, 0],\n",
       " [3, 1, 0, 2],\n",
       " [3, 1, 2, 0],\n",
       " [3, 1, 0, 2],\n",
       " [3, 1, 0, 2],\n",
       " [3, 1, 2, 0],\n",
       " [3, 1, 2, 0],\n",
       " [3, 1, 0, 2],\n",
       " [3, 0, 2, 1],\n",
       " [3, 2, 1, 0],\n",
       " [3, 2, 1, 0],\n",
       " [1, 2, 0, 3],\n",
       " [0, 3, 1, 2],\n",
       " [3, 2, 1, 0],\n",
       " [3, 2, 1, 0],\n",
       " [3, 2, 1, 0],\n",
       " [3, 2, 1, 0],\n",
       " [3, 0, 1, 2],\n",
       " [3, 1, 0, 2],\n",
       " [3, 0, 2, 1],\n",
       " [3, 2, 1, 0],\n",
       " [3, 1, 0, 2],\n",
       " [0, 1, 3, 2],\n",
       " [3, 2, 1, 0],\n",
       " [3, 2, 1, 0],\n",
       " [3, 1, 0, 2],\n",
       " [3, 1, 0, 2],\n",
       " [3, 2, 0, 1],\n",
       " [3, 2, 0, 1],\n",
       " [3, 0, 1, 2],\n",
       " [3, 1, 0, 2],\n",
       " [2, 3, 1, 0],\n",
       " [3, 1, 0, 2],\n",
       " [3, 1, 2, 0],\n",
       " [3, 2, 1, 0],\n",
       " [3, 1, 0, 2],\n",
       " [2, 3, 1, 0],\n",
       " [3, 1, 2, 0],\n",
       " [1, 3, 0, 2],\n",
       " [3, 1, 2, 0],\n",
       " [3, 1, 0, 2],\n",
       " [3, 1, 2, 0],\n",
       " [3, 2, 1, 0],\n",
       " [3, 2, 1, 0],\n",
       " [3, 2, 1, 0],\n",
       " [3, 1, 2, 0],\n",
       " [3, 1, 2, 0],\n",
       " [3, 2, 1, 0],\n",
       " [3, 1, 2, 0],\n",
       " [1, 3, 2, 0],\n",
       " [3, 1, 2, 0],\n",
       " [3, 1, 2, 0],\n",
       " [3, 2, 1, 0],\n",
       " [1, 3, 0, 2],\n",
       " [2, 0, 3, 1],\n",
       " [2, 3, 0, 1],\n",
       " [0, 3, 1, 2],\n",
       " [3, 0, 2, 1],\n",
       " [3, 2, 1, 0],\n",
       " [3, 1, 0, 2],\n",
       " [3, 2, 1, 0],\n",
       " [3, 0, 1, 2],\n",
       " [3, 2, 1, 0],\n",
       " [3, 1, 2, 0],\n",
       " [3, 1, 0, 2],\n",
       " [3, 1, 0, 2],\n",
       " [3, 2, 0, 1],\n",
       " [3, 1, 2, 0],\n",
       " [3, 2, 1, 0],\n",
       " [3, 1, 0, 2],\n",
       " [3, 1, 2, 0],\n",
       " [3, 1, 0, 2],\n",
       " [3, 2, 0, 1],\n",
       " [3, 1, 0, 2],\n",
       " [3, 0, 1, 2],\n",
       " [3, 0, 1, 2],\n",
       " [3, 2, 1, 0],\n",
       " [3, 2, 1, 0],\n",
       " [3, 1, 0, 2],\n",
       " [3, 1, 2, 0],\n",
       " [3, 1, 0, 2],\n",
       " [3, 0, 1, 2],\n",
       " [3, 1, 2, 0],\n",
       " [3, 1, 0, 2],\n",
       " [3, 1, 0, 2],\n",
       " [3, 2, 0, 1],\n",
       " [3, 1, 0, 2],\n",
       " [3, 2, 1, 0],\n",
       " [3, 2, 1, 0],\n",
       " [3, 2, 1, 0],\n",
       " [1, 0, 3, 2],\n",
       " [0, 2, 1, 3],\n",
       " [3, 1, 0, 2],\n",
       " [3, 1, 0, 2],\n",
       " [3, 0, 1, 2],\n",
       " [3, 1, 0, 2],\n",
       " [3, 2, 1, 0],\n",
       " [3, 1, 0, 2],\n",
       " [3, 2, 0, 1],\n",
       " [1, 3, 2, 0],\n",
       " [3, 1, 2, 0],\n",
       " [3, 0, 1, 2],\n",
       " [3, 0, 2, 1],\n",
       " [3, 1, 0, 2],\n",
       " [1, 2, 3, 0],\n",
       " [2, 0, 1, 3],\n",
       " [3, 1, 2, 0],\n",
       " [3, 1, 2, 0],\n",
       " [3, 2, 0, 1],\n",
       " [3, 1, 0, 2],\n",
       " [3, 1, 0, 2],\n",
       " [3, 2, 0, 1],\n",
       " [3, 1, 2, 0],\n",
       " [3, 2, 1, 0],\n",
       " [3, 1, 0, 2],\n",
       " [1, 3, 2, 0],\n",
       " [3, 2, 1, 0],\n",
       " [3, 2, 1, 0],\n",
       " [3, 1, 0, 2],\n",
       " ...]"
      ]
     },
     "execution_count": 111,
     "metadata": {},
     "output_type": "execute_result"
    }
   ],
   "source": [
    "full_pred"
   ]
  },
  {
   "cell_type": "code",
   "execution_count": 112,
   "id": "966d2d16",
   "metadata": {},
   "outputs": [],
   "source": [
    "count0 = 0\n",
    "for i in range(260):\n",
    "    for j in range(2):\n",
    "        if full_pred[i][j] == 0:\n",
    "            count0 += 1"
   ]
  },
  {
   "cell_type": "code",
   "execution_count": 118,
   "id": "3ebf5615",
   "metadata": {},
   "outputs": [],
   "source": [
    "count1 = 0\n",
    "for i in range(260,520):\n",
    "    for j in range(2):\n",
    "        if full_pred[i][j] == 1:\n",
    "            count1 += 1"
   ]
  },
  {
   "cell_type": "code",
   "execution_count": 124,
   "id": "2d68c389",
   "metadata": {},
   "outputs": [],
   "source": [
    "count2 = 0\n",
    "for i in range(519,780):\n",
    "    for j in range(2):\n",
    "        if full_pred[i][j] == 2:\n",
    "            count2 += 1"
   ]
  },
  {
   "cell_type": "code",
   "execution_count": 125,
   "id": "f9bbc592",
   "metadata": {},
   "outputs": [],
   "source": [
    "count3 = 0\n",
    "for i in range(780,1040):\n",
    "    for j in range(2):\n",
    "        if full_pred[i][j] == 3:\n",
    "            count3 += 1"
   ]
  },
  {
   "cell_type": "code",
   "execution_count": 121,
   "id": "b4106c82",
   "metadata": {},
   "outputs": [
    {
     "data": {
      "text/plain": [
       "232"
      ]
     },
     "execution_count": 121,
     "metadata": {},
     "output_type": "execute_result"
    }
   ],
   "source": [
    "count0"
   ]
  },
  {
   "cell_type": "code",
   "execution_count": 122,
   "id": "0e8eae4c",
   "metadata": {
    "scrolled": true
   },
   "outputs": [
    {
     "data": {
      "text/plain": [
       "235"
      ]
     },
     "execution_count": 122,
     "metadata": {},
     "output_type": "execute_result"
    }
   ],
   "source": [
    "count1"
   ]
  },
  {
   "cell_type": "code",
   "execution_count": 126,
   "id": "419102a6",
   "metadata": {},
   "outputs": [
    {
     "data": {
      "text/plain": [
       "211"
      ]
     },
     "execution_count": 126,
     "metadata": {},
     "output_type": "execute_result"
    }
   ],
   "source": [
    "count2"
   ]
  },
  {
   "cell_type": "code",
   "execution_count": 127,
   "id": "e749a977",
   "metadata": {},
   "outputs": [
    {
     "data": {
      "text/plain": [
       "243"
      ]
     },
     "execution_count": 127,
     "metadata": {},
     "output_type": "execute_result"
    }
   ],
   "source": [
    "count3"
   ]
  },
  {
   "cell_type": "code",
   "execution_count": 128,
   "id": "111bcb40",
   "metadata": {},
   "outputs": [
    {
     "data": {
      "text/plain": [
       "0.885576923076923"
      ]
     },
     "execution_count": 128,
     "metadata": {},
     "output_type": "execute_result"
    }
   ],
   "source": [
    "(232+235+211+243)/1040"
   ]
  },
  {
   "cell_type": "code",
   "execution_count": 80,
   "id": "a7545a03",
   "metadata": {},
   "outputs": [
    {
     "data": {
      "text/plain": [
       "185"
      ]
     },
     "execution_count": 80,
     "metadata": {},
     "output_type": "execute_result"
    }
   ],
   "source": [
    "sum(yv[:259] == 1)"
   ]
  },
  {
   "cell_type": "markdown",
   "id": "31e86920",
   "metadata": {},
   "source": [
    "## learning_rate"
   ]
  },
  {
   "cell_type": "code",
   "execution_count": 129,
   "id": "7324e13e",
   "metadata": {},
   "outputs": [
    {
     "name": "stdout",
     "output_type": "stream",
     "text": [
      "0.8 0.6932142857142857\n"
     ]
    },
    {
     "data": {
      "image/png": "[encoded data removed]",
      "text/plain": [
       "<Figure size 1440x360 with 1 Axes>"
      ]
     },
     "metadata": {
      "needs_background": "light"
     },
     "output_type": "display_data"
    }
   ],
   "source": [
    "axisx = np.arange(0.05,1,0.05)\n",
    "rs = []\n",
    "for i in axisx:\n",
    "    clf = XGBC(n_estimators=560\n",
    "               ,subsample=i\n",
    "               ,learning_rate=i\n",
    "               ,random_state=420\n",
    "               ,use_label_encoder=False\n",
    "               ,eval_metric='mlogloss'\n",
    "               ,max_depth=5\n",
    "               ,tree_method='gpu_hist'\n",
    "               ,objective='multi:softmax'\n",
    "               ,num_class=4\n",
    "              )\n",
    "    rs.append(CVS(clf,Xtrain,Ytrain,cv=cv).mean())\n",
    "print(axisx[rs.index(max(rs))],max(rs))\n",
    "plt.figure(figsize=(20,5))\n",
    "plt.plot(axisx,rs,c=\"red\",label=\"XGB\")\n",
    "plt.legend()\n",
    "plt.show()"
   ]
  },
  {
   "cell_type": "code",
   "execution_count": null,
   "id": "5c1553e4",
   "metadata": {},
   "outputs": [],
   "source": [
    "axisx = np.arange(0.05,1,0.05)\n",
    "rs = []\n",
    "for i in axisx:\n",
    "    clf = XGBC(n_estimators=560\n",
    "               ,subsample=i\n",
    "               ,learning_rate=i\n",
    "               ,random_state=420\n",
    "               ,use_label_encoder=False\n",
    "               ,eval_metric='mlogloss'\n",
    "               ,max_depth=5\n",
    "               ,tree_method='gpu_hist'\n",
    "               ,objective='multi:softmax'\n",
    "               ,num_class=4\n",
    "              )\n",
    "    rs.append(CVS(clf,Xtrain,Ytrain,cv=cv).mean())\n",
    "print(axisx[rs.index(max(rs))],max(rs))\n",
    "plt.figure(figsize=(20,5))\n",
    "plt.plot(axisx,rs,c=\"red\",label=\"XGB\")\n",
    "plt.legend()\n",
    "plt.show()"
   ]
  },
  {
   "cell_type": "markdown",
   "id": "969f7906",
   "metadata": {},
   "source": [
    "## gamma"
   ]
  },
  {
   "cell_type": "code",
   "execution_count": null,
   "id": "af13219e",
   "metadata": {},
   "outputs": [],
   "source": []
  },
  {
   "cell_type": "code",
   "execution_count": null,
   "id": "adfbc7a4",
   "metadata": {},
   "outputs": [],
   "source": []
  },
  {
   "cell_type": "code",
   "execution_count": null,
   "id": "57ab1781",
   "metadata": {},
   "outputs": [],
   "source": []
  },
  {
   "cell_type": "code",
   "execution_count": null,
   "id": "142fe6df",
   "metadata": {},
   "outputs": [],
   "source": []
  },
  {
   "cell_type": "code",
   "execution_count": null,
   "id": "d0f6f968",
   "metadata": {},
   "outputs": [],
   "source": []
  },
  {
   "cell_type": "markdown",
   "id": "347746ae",
   "metadata": {},
   "source": [
    "# xgb实现"
   ]
  },
  {
   "cell_type": "code",
   "execution_count": 130,
   "id": "5d3f36bd",
   "metadata": {},
   "outputs": [],
   "source": [
    "data_train = pd.read_csv('4c_train_last.csv', index_col=0)\n",
    "data_val = pd.read_csv('4c_val_last.csv', index_col=0)\n",
    "k = 150"
   ]
  },
  {
   "cell_type": "code",
   "execution_count": 131,
   "id": "7e06cb24",
   "metadata": {},
   "outputs": [],
   "source": [
    "Xtrain = data_train.iloc[:,:k]\n",
    "Ytrain = data_train.iloc[:,-1]\n",
    "Xval = data_val.iloc[:,:k]\n",
    "Yval = data_val.iloc[:,-1]\n",
    "X = pd.concat([Xtrain,Xval],axis=0)\n",
    "Y = pd.concat([Ytrain,Yval],axis=0)"
   ]
  },
  {
   "cell_type": "code",
   "execution_count": 134,
   "id": "78c95805",
   "metadata": {
    "collapsed": true
   },
   "outputs": [
    {
     "name": "stdout",
     "output_type": "stream",
     "text": [
      "[0]\ttrain-merror:0.39991\tdtest-merror:0.45096\n",
      "[1]\ttrain-merror:0.35143\tdtest-merror:0.42404\n",
      "[2]\ttrain-merror:0.33071\tdtest-merror:0.42596\n",
      "[3]\ttrain-merror:0.31330\tdtest-merror:0.40865\n",
      "[4]\ttrain-merror:0.29946\tdtest-merror:0.40288\n",
      "[5]\ttrain-merror:0.28411\tdtest-merror:0.39038\n",
      "[6]\ttrain-merror:0.27286\tdtest-merror:0.39615\n",
      "[7]\ttrain-merror:0.26134\tdtest-merror:0.38461\n",
      "[8]\ttrain-merror:0.25071\tdtest-merror:0.38846\n",
      "[9]\ttrain-merror:0.24464\tdtest-merror:0.37885\n",
      "[10]\ttrain-merror:0.23688\tdtest-merror:0.38365\n",
      "[11]\ttrain-merror:0.22920\tdtest-merror:0.37500\n",
      "[12]\ttrain-merror:0.21937\tdtest-merror:0.37500\n",
      "[13]\ttrain-merror:0.21268\tdtest-merror:0.37115\n",
      "[14]\ttrain-merror:0.20393\tdtest-merror:0.36539\n",
      "[15]\ttrain-merror:0.19518\tdtest-merror:0.36539\n",
      "[16]\ttrain-merror:0.18929\tdtest-merror:0.36539\n",
      "[17]\ttrain-merror:0.18295\tdtest-merror:0.36058\n",
      "[18]\ttrain-merror:0.17411\tdtest-merror:0.36058\n",
      "[19]\ttrain-merror:0.16884\tdtest-merror:0.35577\n",
      "[20]\ttrain-merror:0.16232\tdtest-merror:0.36058\n",
      "[21]\ttrain-merror:0.15795\tdtest-merror:0.35865\n",
      "[22]\ttrain-merror:0.15125\tdtest-merror:0.35577\n",
      "[23]\ttrain-merror:0.14473\tdtest-merror:0.34904\n",
      "[24]\ttrain-merror:0.14179\tdtest-merror:0.35385\n",
      "[25]\ttrain-merror:0.13705\tdtest-merror:0.34615\n",
      "[26]\ttrain-merror:0.13259\tdtest-merror:0.34904\n",
      "[27]\ttrain-merror:0.12848\tdtest-merror:0.35577\n",
      "[28]\ttrain-merror:0.12304\tdtest-merror:0.34423\n",
      "[29]\ttrain-merror:0.11812\tdtest-merror:0.34231\n",
      "[30]\ttrain-merror:0.11527\tdtest-merror:0.35385\n",
      "[31]\ttrain-merror:0.11116\tdtest-merror:0.35673\n",
      "[32]\ttrain-merror:0.10670\tdtest-merror:0.35192\n",
      "[33]\ttrain-merror:0.10286\tdtest-merror:0.35481\n",
      "[34]\ttrain-merror:0.09955\tdtest-merror:0.34808\n",
      "[35]\ttrain-merror:0.09580\tdtest-merror:0.35673\n",
      "[36]\ttrain-merror:0.09312\tdtest-merror:0.35096\n",
      "[37]\ttrain-merror:0.08982\tdtest-merror:0.35192\n",
      "[38]\ttrain-merror:0.08554\tdtest-merror:0.35000\n",
      "[39]\ttrain-merror:0.08286\tdtest-merror:0.34904\n",
      "[40]\ttrain-merror:0.08018\tdtest-merror:0.35096\n",
      "[41]\ttrain-merror:0.07687\tdtest-merror:0.35673\n",
      "[42]\ttrain-merror:0.07295\tdtest-merror:0.35385\n",
      "[43]\ttrain-merror:0.06946\tdtest-merror:0.35096\n",
      "[44]\ttrain-merror:0.06580\tdtest-merror:0.34327\n",
      "[45]\ttrain-merror:0.06366\tdtest-merror:0.34231\n",
      "[46]\ttrain-merror:0.06187\tdtest-merror:0.34519\n",
      "[47]\ttrain-merror:0.05973\tdtest-merror:0.34808\n",
      "[48]\ttrain-merror:0.05705\tdtest-merror:0.34808\n",
      "[49]\ttrain-merror:0.05375\tdtest-merror:0.35000\n",
      "[50]\ttrain-merror:0.05080\tdtest-merror:0.34808\n",
      "[51]\ttrain-merror:0.04821\tdtest-merror:0.34615\n",
      "[52]\ttrain-merror:0.04643\tdtest-merror:0.34231\n",
      "[53]\ttrain-merror:0.04464\tdtest-merror:0.34423\n",
      "[54]\ttrain-merror:0.04339\tdtest-merror:0.34423\n",
      "[55]\ttrain-merror:0.04116\tdtest-merror:0.33942\n",
      "[56]\ttrain-merror:0.03964\tdtest-merror:0.34231\n",
      "[57]\ttrain-merror:0.03830\tdtest-merror:0.34231\n",
      "[58]\ttrain-merror:0.03705\tdtest-merror:0.33942\n",
      "[59]\ttrain-merror:0.03518\tdtest-merror:0.33942\n",
      "[60]\ttrain-merror:0.03393\tdtest-merror:0.33942\n",
      "[61]\ttrain-merror:0.03313\tdtest-merror:0.33750\n",
      "[62]\ttrain-merror:0.03179\tdtest-merror:0.34327\n",
      "[63]\ttrain-merror:0.03000\tdtest-merror:0.33750\n",
      "[64]\ttrain-merror:0.02866\tdtest-merror:0.34038\n",
      "[65]\ttrain-merror:0.02607\tdtest-merror:0.33558\n",
      "[66]\ttrain-merror:0.02482\tdtest-merror:0.33942\n",
      "[67]\ttrain-merror:0.02393\tdtest-merror:0.34135\n",
      "[68]\ttrain-merror:0.02375\tdtest-merror:0.34038\n",
      "[69]\ttrain-merror:0.02241\tdtest-merror:0.34135\n",
      "[70]\ttrain-merror:0.02134\tdtest-merror:0.34038\n",
      "[71]\ttrain-merror:0.01973\tdtest-merror:0.34038\n",
      "[72]\ttrain-merror:0.01857\tdtest-merror:0.33461\n",
      "[73]\ttrain-merror:0.01759\tdtest-merror:0.33654\n",
      "[74]\ttrain-merror:0.01732\tdtest-merror:0.32885\n",
      "[75]\ttrain-merror:0.01616\tdtest-merror:0.33461\n",
      "[76]\ttrain-merror:0.01500\tdtest-merror:0.33077\n",
      "[77]\ttrain-merror:0.01438\tdtest-merror:0.33942\n",
      "[78]\ttrain-merror:0.01384\tdtest-merror:0.33654\n",
      "[79]\ttrain-merror:0.01384\tdtest-merror:0.34327\n",
      "[80]\ttrain-merror:0.01259\tdtest-merror:0.34135\n",
      "[81]\ttrain-merror:0.01170\tdtest-merror:0.34135\n",
      "[82]\ttrain-merror:0.01152\tdtest-merror:0.34135\n",
      "[83]\ttrain-merror:0.01071\tdtest-merror:0.33942\n",
      "[84]\ttrain-merror:0.00991\tdtest-merror:0.33846\n",
      "[85]\ttrain-merror:0.00964\tdtest-merror:0.33750\n",
      "[86]\ttrain-merror:0.00902\tdtest-merror:0.33750\n",
      "[87]\ttrain-merror:0.00875\tdtest-merror:0.33654\n",
      "[88]\ttrain-merror:0.00830\tdtest-merror:0.33654\n",
      "[89]\ttrain-merror:0.00750\tdtest-merror:0.33750\n",
      "[90]\ttrain-merror:0.00598\tdtest-merror:0.33750\n",
      "[91]\ttrain-merror:0.00571\tdtest-merror:0.33750\n",
      "[92]\ttrain-merror:0.00589\tdtest-merror:0.33654\n",
      "[93]\ttrain-merror:0.00571\tdtest-merror:0.33846\n",
      "[94]\ttrain-merror:0.00536\tdtest-merror:0.33942\n",
      "[95]\ttrain-merror:0.00536\tdtest-merror:0.34135\n",
      "[96]\ttrain-merror:0.00500\tdtest-merror:0.33846\n",
      "[97]\ttrain-merror:0.00464\tdtest-merror:0.33846\n",
      "[98]\ttrain-merror:0.00384\tdtest-merror:0.34038\n",
      "[99]\ttrain-merror:0.00339\tdtest-merror:0.34038\n",
      "[100]\ttrain-merror:0.00313\tdtest-merror:0.34327\n",
      "[101]\ttrain-merror:0.00321\tdtest-merror:0.34135\n",
      "[102]\ttrain-merror:0.00321\tdtest-merror:0.34038\n",
      "[103]\ttrain-merror:0.00268\tdtest-merror:0.34135\n",
      "[104]\ttrain-merror:0.00223\tdtest-merror:0.34231\n",
      "[105]\ttrain-merror:0.00214\tdtest-merror:0.33846\n",
      "[106]\ttrain-merror:0.00214\tdtest-merror:0.33942\n",
      "[107]\ttrain-merror:0.00187\tdtest-merror:0.33942\n",
      "[108]\ttrain-merror:0.00179\tdtest-merror:0.34327\n",
      "[109]\ttrain-merror:0.00143\tdtest-merror:0.33846\n",
      "[110]\ttrain-merror:0.00152\tdtest-merror:0.33654\n",
      "[111]\ttrain-merror:0.00134\tdtest-merror:0.33750\n",
      "[112]\ttrain-merror:0.00098\tdtest-merror:0.33750\n",
      "[113]\ttrain-merror:0.00089\tdtest-merror:0.34231\n",
      "[114]\ttrain-merror:0.00071\tdtest-merror:0.34231\n",
      "[115]\ttrain-merror:0.00080\tdtest-merror:0.33942\n",
      "[116]\ttrain-merror:0.00054\tdtest-merror:0.34231\n",
      "[117]\ttrain-merror:0.00063\tdtest-merror:0.34038\n",
      "[118]\ttrain-merror:0.00071\tdtest-merror:0.34038\n",
      "[119]\ttrain-merror:0.00054\tdtest-merror:0.34135\n",
      "[120]\ttrain-merror:0.00045\tdtest-merror:0.33942\n",
      "[121]\ttrain-merror:0.00036\tdtest-merror:0.34038\n",
      "[122]\ttrain-merror:0.00036\tdtest-merror:0.34231\n",
      "[123]\ttrain-merror:0.00036\tdtest-merror:0.34135\n",
      "[124]\ttrain-merror:0.00045\tdtest-merror:0.34038\n",
      "[125]\ttrain-merror:0.00027\tdtest-merror:0.34231\n",
      "[126]\ttrain-merror:0.00027\tdtest-merror:0.34231\n",
      "[127]\ttrain-merror:0.00027\tdtest-merror:0.34519\n",
      "[128]\ttrain-merror:0.00018\tdtest-merror:0.34423\n",
      "[129]\ttrain-merror:0.00018\tdtest-merror:0.34135\n",
      "[130]\ttrain-merror:0.00018\tdtest-merror:0.34231\n",
      "[131]\ttrain-merror:0.00018\tdtest-merror:0.34038\n",
      "[132]\ttrain-merror:0.00018\tdtest-merror:0.33942\n",
      "[133]\ttrain-merror:0.00009\tdtest-merror:0.33942\n",
      "[134]\ttrain-merror:0.00009\tdtest-merror:0.33846\n",
      "[135]\ttrain-merror:0.00009\tdtest-merror:0.33558\n",
      "[136]\ttrain-merror:0.00009\tdtest-merror:0.33558\n",
      "[137]\ttrain-merror:0.00009\tdtest-merror:0.33461\n",
      "[138]\ttrain-merror:0.00009\tdtest-merror:0.33558\n",
      "[139]\ttrain-merror:0.00009\tdtest-merror:0.33750\n",
      "[140]\ttrain-merror:0.00009\tdtest-merror:0.33750\n",
      "[141]\ttrain-merror:0.00009\tdtest-merror:0.33750\n",
      "[142]\ttrain-merror:0.00009\tdtest-merror:0.33846\n",
      "[143]\ttrain-merror:0.00009\tdtest-merror:0.34231\n",
      "[144]\ttrain-merror:0.00009\tdtest-merror:0.34038\n",
      "[145]\ttrain-merror:0.00009\tdtest-merror:0.33750\n",
      "[146]\ttrain-merror:0.00000\tdtest-merror:0.33461\n",
      "[147]\ttrain-merror:0.00000\tdtest-merror:0.33365\n",
      "[148]\ttrain-merror:0.00000\tdtest-merror:0.33173\n",
      "[149]\ttrain-merror:0.00000\tdtest-merror:0.33269\n",
      "[150]\ttrain-merror:0.00000\tdtest-merror:0.33077\n",
      "[151]\ttrain-merror:0.00000\tdtest-merror:0.33077\n",
      "[152]\ttrain-merror:0.00000\tdtest-merror:0.33077\n",
      "[153]\ttrain-merror:0.00000\tdtest-merror:0.33173\n",
      "[154]\ttrain-merror:0.00000\tdtest-merror:0.33269\n",
      "[155]\ttrain-merror:0.00000\tdtest-merror:0.33077\n",
      "[156]\ttrain-merror:0.00000\tdtest-merror:0.33269\n",
      "[157]\ttrain-merror:0.00000\tdtest-merror:0.33461\n",
      "[158]\ttrain-merror:0.00000\tdtest-merror:0.33365\n",
      "[159]\ttrain-merror:0.00000\tdtest-merror:0.33365\n",
      "[160]\ttrain-merror:0.00000\tdtest-merror:0.33365\n",
      "[161]\ttrain-merror:0.00000\tdtest-merror:0.33365\n",
      "[162]\ttrain-merror:0.00000\tdtest-merror:0.33269\n",
      "[163]\ttrain-merror:0.00000\tdtest-merror:0.33077\n",
      "[164]\ttrain-merror:0.00000\tdtest-merror:0.33077\n",
      "[165]\ttrain-merror:0.00000\tdtest-merror:0.32981\n",
      "[166]\ttrain-merror:0.00000\tdtest-merror:0.33077\n",
      "[167]\ttrain-merror:0.00000\tdtest-merror:0.33365\n",
      "[168]\ttrain-merror:0.00000\tdtest-merror:0.32981\n",
      "[169]\ttrain-merror:0.00000\tdtest-merror:0.33173\n",
      "[170]\ttrain-merror:0.00000\tdtest-merror:0.32981\n",
      "[171]\ttrain-merror:0.00000\tdtest-merror:0.33269\n",
      "[172]\ttrain-merror:0.00000\tdtest-merror:0.32981\n"
     ]
    },
    {
     "name": "stdout",
     "output_type": "stream",
     "text": [
      "[173]\ttrain-merror:0.00000\tdtest-merror:0.33077\n",
      "[174]\ttrain-merror:0.00000\tdtest-merror:0.33077\n",
      "[175]\ttrain-merror:0.00000\tdtest-merror:0.33077\n",
      "[176]\ttrain-merror:0.00000\tdtest-merror:0.33269\n",
      "[177]\ttrain-merror:0.00000\tdtest-merror:0.33269\n",
      "[178]\ttrain-merror:0.00000\tdtest-merror:0.33077\n",
      "[179]\ttrain-merror:0.00000\tdtest-merror:0.33173\n",
      "[180]\ttrain-merror:0.00000\tdtest-merror:0.33173\n",
      "[181]\ttrain-merror:0.00000\tdtest-merror:0.33173\n",
      "[182]\ttrain-merror:0.00000\tdtest-merror:0.33173\n",
      "[183]\ttrain-merror:0.00000\tdtest-merror:0.33269\n",
      "[184]\ttrain-merror:0.00000\tdtest-merror:0.32788\n",
      "[185]\ttrain-merror:0.00000\tdtest-merror:0.32885\n",
      "[186]\ttrain-merror:0.00000\tdtest-merror:0.33269\n",
      "[187]\ttrain-merror:0.00000\tdtest-merror:0.33654\n",
      "[188]\ttrain-merror:0.00000\tdtest-merror:0.33558\n",
      "[189]\ttrain-merror:0.00000\tdtest-merror:0.33558\n",
      "[190]\ttrain-merror:0.00000\tdtest-merror:0.33077\n",
      "[191]\ttrain-merror:0.00000\tdtest-merror:0.32981\n",
      "[192]\ttrain-merror:0.00000\tdtest-merror:0.32981\n",
      "[193]\ttrain-merror:0.00000\tdtest-merror:0.32596\n",
      "[194]\ttrain-merror:0.00000\tdtest-merror:0.32692\n",
      "[195]\ttrain-merror:0.00000\tdtest-merror:0.32308\n",
      "[196]\ttrain-merror:0.00000\tdtest-merror:0.32692\n",
      "[197]\ttrain-merror:0.00000\tdtest-merror:0.32692\n",
      "[198]\ttrain-merror:0.00000\tdtest-merror:0.32692\n",
      "[199]\ttrain-merror:0.00000\tdtest-merror:0.32885\n",
      "{'0': 3.5706002712249756, '1': 2.045400857925415, '2': 2.736389636993408, '3': 2.579148769378662, '4': 7.299440860748291, '5': 14.735969543457031, '6': 1.5759217739105225, '7': 2.660940170288086, '8': 4.07326602935791, '9': 1.4413957595825195, '10': 1.3636341094970703, '11': 3.899477243423462, '12': 1.7642487287521362, '13': 1.6865230798721313, '14': 1.616058588027954, '15': 1.401963472366333, '16': 2.322084426879883, '17': 1.4515037536621094, '18': 1.6763672828674316, '19': 2.2630631923675537, '20': 1.4678527116775513, '21': 1.4983946084976196, '22': 2.6707100868225098, '23': 6.505270481109619, '24': 5.4755730628967285, '25': 1.9276374578475952, '26': 1.779649257659912, '27': 1.4994709491729736, '28': 1.977691888809204, '29': 1.8661446571350098, '30': 2.9442625045776367, '31': 2.9560301303863525, '32': 2.255857229232788, '33': 1.7312071323394775, '34': 3.527428150177002, '35': 3.0069737434387207, '36': 1.4451191425323486, '37': 6.71743631362915, '38': 2.8852477073669434, '39': 1.4178428649902344, '40': 3.0857317447662354, '41': 1.8143012523651123, '42': 1.437870740890503, '43': 1.9828473329544067, '44': 2.018564224243164, '45': 3.5382275581359863, '46': 1.3346275091171265, '47': 1.542656421661377, '48': 4.042954921722412, '49': 1.7206895351409912, '50': 1.4828104972839355, '51': 3.4957621097564697, '52': 1.5781035423278809, '53': 2.661064624786377, '54': 2.3408639430999756, '55': 1.3675719499588013, '56': 4.132510662078857, '57': 1.5226038694381714, '58': 1.3425002098083496, '59': 2.200923442840576, '60': 1.9376558065414429, '61': 6.005691051483154, '62': 1.9885742664337158, '63': 1.8809822797775269, '64': 1.7164989709854126, '65': 3.2287750244140625, '66': 1.7192193269729614, '67': 1.3725720643997192, '68': 1.5430703163146973, '69': 1.4910656213760376, '70': 2.4512999057769775, '71': 1.7649025917053223, '72': 4.104299068450928, '73': 1.7536237239837646, '74': 1.4376095533370972, '75': 3.6077356338500977, '76': 2.1587817668914795, '77': 1.8488128185272217, '78': 2.002603530883789, '79': 1.7218517065048218, '80': 2.429734945297241, '81': 2.7184388637542725, '82': 1.6371065378189087, '83': 3.286165952682495, '84': 3.8706412315368652, '85': 2.6157045364379883, '86': 3.4784908294677734, '87': 2.8730695247650146, '88': 1.7953832149505615, '89': 1.8469023704528809, '90': 4.4161529541015625, '91': 1.2753387689590454, '92': 1.3708417415618896, '93': 1.4351693391799927, '94': 2.4341318607330322, '95': 1.2319377660751343, '96': 2.608532667160034, '97': 2.3546061515808105, '98': 1.6353732347488403, '99': 2.027381658554077, '100': 1.5012418031692505, '101': 2.8848748207092285, '102': 1.9999550580978394, '103': 2.4249324798583984, '104': 3.9204351902008057, '105': 1.3262383937835693, '106': 1.8726413249969482, '107': 1.350629448890686, '108': 6.095876693725586, '109': 1.7411351203918457, '110': 1.9011002779006958, '111': 1.7137892246246338, '112': 2.199259042739868, '113': 4.968711853027344, '114': 2.444861650466919, '115': 2.1211330890655518, '116': 7.104885101318359, '117': 1.7352945804595947, '118': 1.7151929140090942, '119': 4.8737897872924805, '120': 1.7671538591384888, '121': 1.567283272743225, '122': 1.874525547027588, '123': 2.038928985595703, '124': 3.502920150756836, '125': 1.7105989456176758, '126': 1.6639502048492432, '127': 2.6795830726623535, '128': 2.2551958560943604, '129': 5.905325889587402, '130': 3.5385031700134277, '131': 2.6002984046936035, '132': 2.407674789428711, '133': 1.370638132095337, '134': 2.312276840209961, '135': 3.4450271129608154, '136': 1.687414288520813, '137': 1.8585773706436157, '138': 1.238043189048767, '139': 2.102508306503296, '140': 1.4972460269927979, '141': 1.7999252080917358, '142': 2.454277992248535, '143': 1.3337111473083496, '144': 2.198725461959839, '145': 2.718724489212036, '146': 2.098728895187378, '147': 4.059787750244141, '148': 1.6942247152328491, '149': 1.1211017370224}\n"
     ]
    }
   ],
   "source": [
    "import xgboost as xgb\n",
    "from sklearn.metrics import accuracy_score\n",
    "\n",
    "dtrain = xgb.DMatrix(Xtrain, label=Ytrain)\n",
    "dtest = xgb.DMatrix(Xval, label=Yval)\n",
    "\n",
    "# 设置参数\n",
    "params = {'num_class': 4\n",
    "          ,'objective':'multi:softmax'\n",
    "          ,'eval_metric':'merror'\n",
    "          ,'subsample':0.831578947368421\n",
    "          ,'eta': 0.3\n",
    "          ,'reg_alpha': 0.01\n",
    "          ,'reg_lambda': 0.01\n",
    "          ,'max_depth': 5\n",
    "         }\n",
    "\n",
    "# 训练模型\n",
    "bst = xgb.train(params=params\n",
    "                ,dtrain=dtrain\n",
    "                ,num_boost_round=200\n",
    "                ,evals=[(dtrain, 'train'), (dtest, 'dtest')]\n",
    "               )\n",
    "\n",
    "feature_score = bst.get_score(importance_type='gain') # 特征得分（特征重要性）\n",
    "# print(feature_score)"
   ]
  },
  {
   "cell_type": "code",
   "execution_count": 133,
   "id": "658224a1",
   "metadata": {
    "collapsed": true
   },
   "outputs": [
    {
     "ename": "NameError",
     "evalue": "name 'features' is not defined",
     "output_type": "error",
     "traceback": [
      "\u001b[0;31m---------------------------------------------------------------------------\u001b[0m",
      "\u001b[0;31mNameError\u001b[0m                                 Traceback (most recent call last)",
      "\u001b[0;32m<ipython-input-133-ab6ce0f805d4>\u001b[0m in \u001b[0;36m<module>\u001b[0;34m\u001b[0m\n\u001b[1;32m      1\u001b[0m \u001b[0mfeature_importance\u001b[0m \u001b[0;34m=\u001b[0m \u001b[0;34m{\u001b[0m\u001b[0;34m}\u001b[0m\u001b[0;34m\u001b[0m\u001b[0;34m\u001b[0m\u001b[0m\n\u001b[1;32m      2\u001b[0m \u001b[0;32mfor\u001b[0m \u001b[0mtag\u001b[0m\u001b[0;34m,\u001b[0m \u001b[0mscore\u001b[0m \u001b[0;32min\u001b[0m \u001b[0mfeature_score\u001b[0m\u001b[0;34m.\u001b[0m\u001b[0mitems\u001b[0m\u001b[0;34m(\u001b[0m\u001b[0;34m)\u001b[0m\u001b[0;34m:\u001b[0m\u001b[0;34m\u001b[0m\u001b[0;34m\u001b[0m\u001b[0m\n\u001b[0;32m----> 3\u001b[0;31m     \u001b[0mfeature_importance\u001b[0m\u001b[0;34m[\u001b[0m\u001b[0mfeatures\u001b[0m\u001b[0;34m[\u001b[0m\u001b[0mint\u001b[0m\u001b[0;34m(\u001b[0m\u001b[0mtag\u001b[0m\u001b[0;34m[\u001b[0m\u001b[0;36m1\u001b[0m\u001b[0;34m:\u001b[0m\u001b[0;34m]\u001b[0m\u001b[0;34m)\u001b[0m\u001b[0;34m]\u001b[0m\u001b[0;34m]\u001b[0m \u001b[0;34m=\u001b[0m \u001b[0mscore\u001b[0m\u001b[0;34m\u001b[0m\u001b[0;34m\u001b[0m\u001b[0m\n\u001b[0m\u001b[1;32m      4\u001b[0m \u001b[0;34m\u001b[0m\u001b[0m\n\u001b[1;32m      5\u001b[0m \u001b[0mplt\u001b[0m\u001b[0;34m.\u001b[0m\u001b[0mfigure\u001b[0m\u001b[0;34m(\u001b[0m\u001b[0mfigsize\u001b[0m\u001b[0;34m=\u001b[0m\u001b[0;34m(\u001b[0m\u001b[0;36m12\u001b[0m\u001b[0;34m,\u001b[0m \u001b[0;36m8\u001b[0m\u001b[0;34m)\u001b[0m\u001b[0;34m)\u001b[0m\u001b[0;34m\u001b[0m\u001b[0;34m\u001b[0m\u001b[0m\n",
      "\u001b[0;31mNameError\u001b[0m: name 'features' is not defined"
     ]
    }
   ],
   "source": [
    "feature_importance = {}\n",
    "for tag, score in feature_score.items():\n",
    "    feature_importance[features[int(tag[1:])]] = score\n",
    "\n",
    "plt.figure(figsize=(12, 8))\n",
    "plt.bar(range(len(feature_importance)), feature_importance.values())\n",
    "plt.xticks(range(len(feature_importance)), feature_importance.keys(), rotation=45)\n",
    "plt.ylabel('Importance')\n",
    "plt.show()\n",
    "\n",
    "# 预测结果\n",
    "result = bst.predict(\n",
    "    dtest,\n",
    "    ntree_limit=10\n",
    ")\n",
    "print('Accuracy of prediction on wine dataset:', accuracy_score(y_test, result))"
   ]
  },
  {
   "cell_type": "code",
   "execution_count": null,
   "id": "7ac14f23",
   "metadata": {},
   "outputs": [],
   "source": [
    "from time import time\n",
    "import datetime\n",
    "time0 = time()\n",
    "cvresult1 = xgb.cv(params, dtrain, num_boost_round=560,nfold=5)\n",
    "print(datetime.datetime.fromtimestamp(time()-time0).strftime(\"%M:%S:%f\"))"
   ]
  },
  {
   "cell_type": "code",
   "execution_count": 142,
   "id": "6266fe8a",
   "metadata": {},
   "outputs": [
    {
     "data": {
      "image/png": "[encoded data removed]",
      "text/plain": [
       "<Figure size 1440x360 with 1 Axes>"
      ]
     },
     "metadata": {
      "needs_background": "light"
     },
     "output_type": "display_data"
    }
   ],
   "source": [
    "plt.figure(figsize=(20,5))\n",
    "plt.grid()\n",
    "plt.plot(range(1,561),cvresult1.iloc[:,0],c=\"red\",label=\"train,gamma=0\")\n",
    "plt.plot(range(1,561),cvresult1.iloc[:,2],c=\"orange\",label=\"test,gamma=0\")\n",
    "plt.legend()\n",
    "plt.show()"
   ]
  },
  {
   "cell_type": "code",
   "execution_count": 144,
   "id": "4a0bfe02",
   "metadata": {},
   "outputs": [
    {
     "name": "stdout",
     "output_type": "stream",
     "text": [
      "216.92849111557007\n",
      "103.91329622268677\n",
      "97.73989272117615\n"
     ]
    },
    {
     "data": {
      "image/png": "[encoded data removed]",
      "text/plain": [
       "<Figure size 1080x576 with 1 Axes>"
      ]
     },
     "metadata": {
      "needs_background": "light"
     },
     "output_type": "display_data"
    }
   ],
   "source": [
    "#原始默认参数，同上\n",
    "param1 = {\"objective\":\"multi:softmax\"\n",
    "          ,\"num_class\":4\n",
    "          ,\"subsample\":1\n",
    "          ,\"max_depth\":6\n",
    "          ,\"eta\":0.3\n",
    "          ,\"gamma\":0\n",
    "          ,\"lambda\":1\n",
    "          ,\"alpha\":0\n",
    "          ,\"colsample_bytree\":1\n",
    "          ,\"colsample_bylevel\":1\n",
    "          ,\"colsample_bynode\":1\n",
    "          ,\"eval_metric\":\"merror\"\n",
    "         }\n",
    "num_round = 260\n",
    "nfold = 5\n",
    "\n",
    "time0 = time()\n",
    "cvresult1 = xgb.cv(param1, dtrain, num_round, nfold)\n",
    "print(time()-time0)\n",
    "\n",
    "fig,ax = plt.subplots(1,figsize=(15,8))\n",
    "ax.set_ylim(top=0.5)\n",
    "ax.grid()\n",
    "ax.plot(range(1,num_round+1),cvresult1.iloc[:,0],c=\"red\",label=\"train,original\")\n",
    "ax.plot(range(1,num_round+1),cvresult1.iloc[:,2],c=\"orange\",label=\"test,original\")\n",
    "\n",
    "# 已经调参完毕的效果\n",
    "param2 = {\"max_depth\":6\n",
    "          ,\"objective\":\"multi:softmax\"\n",
    "          ,\"subsample\":0.831578947368421\n",
    "          ,\"num_class\":4\n",
    "          ,\"eta\":0.15  # eta通常设定的比较小，控制迭代速度\n",
    "#           ,\"gamma\":3.5   # 先调了max_depth，故调整gamma对模型效果影响不大\n",
    "          ,\"lambda\":1\n",
    "          ,\"alpha\":0\n",
    "          ,\"colsample_bytree\":1\n",
    "          ,\"colsample_bylevel\":1  # 抽样提升模型运行速度\n",
    "          ,\"colsample_bynode\":1\n",
    "          ,'eval_metric':'merror'\n",
    "         }\n",
    "\n",
    "# 正在调参的效果\n",
    "param3 = {\"max_depth\":6\n",
    "          ,\"objective\":\"multi:softmax\"\n",
    "          ,\"num_class\":4\n",
    "          ,\"subsample\":0.831578947368421\n",
    "          ,\"eta\":0.25\n",
    "#           ,\"gamma\":3.5\n",
    "          ,\"lambda\":1\n",
    "          ,\"alpha\":0\n",
    "          ,\"colsample_bytree\":1\n",
    "          ,\"colsample_bylevel\":1\n",
    "          ,\"colsample_bynode\":1\n",
    "          ,'eval_metric':'merror'\n",
    "         }\n",
    "\n",
    "time0 = time()\n",
    "cvresult2 = xgb.cv(param2, dtrain, num_round)\n",
    "print(time()-time0)\n",
    "\n",
    "time0 = time()\n",
    "cvresult3 = xgb.cv(param3, dtrain, num_round)\n",
    "print(time()-time0)\n",
    "\n",
    "ax.plot(range(1,num_round+1),cvresult2.iloc[:,0],c=\"green\",label=\"train,last\")\n",
    "ax.plot(range(1,num_round+1),cvresult2.iloc[:,2],c=\"blue\",label=\"test,last\")\n",
    "ax.plot(range(1,num_round+1),cvresult3.iloc[:,0],c=\"gray\",label=\"train,this\")\n",
    "ax.plot(range(1,num_round+1),cvresult3.iloc[:,2],c=\"pink\",label=\"test,this\")\n",
    "ax.legend(fontsize=\"xx-large\")\n",
    "plt.show()\n",
    "\n",
    "# 纵坐标是mse，越小越好"
   ]
  },
  {
   "cell_type": "code",
   "execution_count": null,
   "id": "33bcf816",
   "metadata": {},
   "outputs": [],
   "source": []
  },
  {
   "cell_type": "code",
   "execution_count": null,
   "id": "4617b53e",
   "metadata": {},
   "outputs": [],
   "source": []
  },
  {
   "cell_type": "code",
   "execution_count": null,
   "id": "b645c6ed",
   "metadata": {},
   "outputs": [],
   "source": []
  },
  {
   "cell_type": "code",
   "execution_count": null,
   "id": "7a08161d",
   "metadata": {},
   "outputs": [],
   "source": []
  }
 ],
 "metadata": {
  "kernelspec": {
   "display_name": "Python [conda env:opencv]",
   "language": "python",
   "name": "conda-env-opencv-py"
  },
  "language_info": {
   "codemirror_mode": {
    "name": "ipython",
    "version": 3
   },
   "file_extension": ".py",
   "mimetype": "text/x-python",
   "name": "python",
   "nbconvert_exporter": "python",
   "pygments_lexer": "ipython3",
   "version": "3.6.13"
  },
  "toc": {
   "base_numbering": 1,
   "nav_menu": {},
   "number_sections": true,
   "sideBar": true,
   "skip_h1_title": false,
   "title_cell": "Table of Contents",
   "title_sidebar": "Contents",
   "toc_cell": false,
   "toc_position": {},
   "toc_section_display": true,
   "toc_window_display": true
  }
 },
 "nbformat": 4,
 "nbformat_minor": 5
}
