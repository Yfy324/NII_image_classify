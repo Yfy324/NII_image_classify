{
 "cells": [
  {
   "cell_type": "code",
   "execution_count": 1,
   "id": "754b5af0",
   "metadata": {},
   "outputs": [],
   "source": [
    "import numpy as np\n",
    "import pandas as pd\n",
    "import matplotlib.pyplot as plt\n",
    "import xgboost as xgb\n",
    "from xgboost import XGBClassifier as XGBC\n",
    "from sklearn.metrics import confusion_matrix as cm, recall_score as recall, roc_auc_score as auc\n",
    "from sklearn.model_selection import KFold, cross_val_score as CVS, train_test_split as TTS\n",
    "from sklearn.metrics import mean_squared_error as MSE\n",
    "from sklearn.preprocessing import StandardScaler\n",
    "from sklearn.decomposition import PCA\n",
    "import joblib\n",
    "from sklearn.model_selection import GridSearchCV"
   ]
  },
  {
   "cell_type": "markdown",
   "id": "3d75ce22",
   "metadata": {},
   "source": [
    "# 2-classes"
   ]
  },
  {
   "cell_type": "code",
   "execution_count": 72,
   "id": "e233c14c",
   "metadata": {},
   "outputs": [],
   "source": [
    "Xtrain, Ytrain, Xtest, Ytest = joblib.load('/home/yfy/Desktop/projects/NII_image_classify/new_bof_xy.pkl')"
   ]
  },
  {
   "cell_type": "code",
   "execution_count": 73,
   "id": "0d416723",
   "metadata": {},
   "outputs": [],
   "source": [
    "Xtrain = np.array(Xtrain)\n",
    "Ytrain = np.array(Ytrain)\n",
    "Xtest = np.array(Xtest)\n",
    "Ytest = np.array(Ytest)"
   ]
  },
  {
   "cell_type": "code",
   "execution_count": 88,
   "id": "355a947c",
   "metadata": {
    "scrolled": false
   },
   "outputs": [
    {
     "name": "stdout",
     "output_type": "stream",
     "text": [
      "cross validation on training set:  0.7642857142857142\n",
      "test score:  0.8192307692307692\n"
     ]
    }
   ],
   "source": [
    "clf = XGBC(n_estimators=81 #27\n",
    "           ,random_state=420\n",
    "           ,use_label_encoder=False\n",
    "           ,eval_metric='logloss'\n",
    "           ,max_depth=3  #5\n",
    "           ,objective='binary:logistic'\n",
    "#            ,num_class=2\n",
    "           ,tree_method='gpu_hist'\n",
    "           ,learning_rate=0.175\n",
    "           ,gamma = 22\n",
    "           ,subsample = 0.76\n",
    "           ,colsample_bytree=1\n",
    "           ,min_child_weight=1\n",
    "           ,colsample_bylevel=0.54\n",
    "           ,reg_alpha=0\n",
    "           ,reg_lambda=0.35\n",
    "          )\n",
    "\n",
    "\n",
    "# clf.fit(Xtrain,Ytrain,eval_set=[(Xtest,Ytest)])\n",
    "clf.fit(Xtrain,Ytrain)\n",
    "print('cross validation on training set: ',CVS(clf,Xtrain,Ytrain,cv=5).mean())\n",
    "print('test score: ',clf.score(Xtest,Ytest))"
   ]
  },
  {
   "cell_type": "code",
   "execution_count": 89,
   "id": "ac6d0ee3",
   "metadata": {},
   "outputs": [
    {
     "data": {
      "text/plain": [
       "array([0, 0, 0, 1, 0, 1, 0, 1, 1, 1, 0, 1, 0, 1, 0, 1, 0, 1, 0, 1, 1, 1,\n",
       "       0, 1, 0, 1, 0, 1, 0, 1, 1, 0, 0, 1, 0, 1, 0, 1, 0, 1, 0, 1, 0, 0,\n",
       "       0, 1, 0, 1, 0, 0, 0, 1, 0, 0, 0, 0, 0, 1, 0, 1, 1, 1, 0, 1, 1, 1,\n",
       "       0, 1, 0, 1, 0, 1, 0, 0, 0, 1, 0, 1, 1, 1, 0, 1, 0, 1, 1, 1, 0, 0,\n",
       "       0, 1, 0, 1, 1, 1, 0, 1, 0, 1, 1, 1, 0, 1, 0, 1, 0, 1, 0, 1, 0, 1,\n",
       "       0, 1, 0, 1, 0, 1, 0, 1, 0, 1, 0, 1, 0, 1, 0, 1, 0, 1, 1, 1, 0, 1,\n",
       "       1, 1, 1, 1, 0, 1, 0, 1, 0, 1, 0, 1, 0, 0, 0, 1, 0, 0, 0, 1, 0, 1,\n",
       "       0, 1, 0, 1, 0, 1, 0, 0, 0, 1, 1, 0, 0, 1, 0, 0, 1, 1, 0, 1, 0, 1,\n",
       "       0, 1, 0, 1, 0, 0, 1, 0, 0, 0, 0, 1, 0, 1, 0, 1, 0, 0, 0, 1, 1, 1,\n",
       "       0, 0, 1, 1, 0, 0, 0, 1, 0, 1, 0, 0, 0, 1, 0, 1, 0, 1, 1, 1, 1, 0,\n",
       "       1, 1, 0, 0, 0, 1, 0, 1, 0, 1, 0, 1, 0, 1, 1, 1, 0, 1, 1, 1, 0, 1,\n",
       "       0, 1, 0, 0, 0, 0, 0, 1, 0, 1, 0, 0, 1, 1, 0, 1, 0, 0, 0, 0, 0, 1,\n",
       "       0, 1, 0, 0, 1, 1, 0, 1, 0, 1, 0, 0, 1, 1, 1, 1, 1, 1, 0, 1, 0, 1,\n",
       "       0, 0, 0, 1, 0, 1, 0, 1, 1, 0, 0, 1, 0, 1, 0, 1, 0, 1, 0, 1, 0, 0,\n",
       "       0, 1, 0, 0, 0, 1, 1, 1, 0, 1, 0, 1, 0, 1, 0, 0, 1, 1, 1, 1, 0, 1,\n",
       "       0, 1, 0, 1, 0, 1, 0, 1, 0, 1, 0, 1, 0, 1, 0, 1, 0, 1, 0, 1, 0, 1,\n",
       "       0, 1, 0, 0, 0, 1, 0, 0, 0, 1, 0, 1, 1, 1, 0, 1, 0, 1, 0, 1, 0, 1,\n",
       "       0, 1, 0, 1, 0, 1, 0, 0, 1, 1, 0, 0, 0, 1, 1, 0, 0, 1, 0, 1, 0, 1,\n",
       "       0, 1, 0, 1, 0, 1, 0, 0, 0, 0, 0, 1, 0, 1, 1, 0, 0, 1, 0, 1, 0, 1,\n",
       "       0, 0, 0, 1, 0, 1, 0, 1, 1, 1, 1, 1, 0, 0, 1, 1, 0, 1, 0, 1, 0, 1,\n",
       "       0, 1, 0, 1, 0, 1, 1, 1, 0, 0, 0, 1, 0, 1, 0, 1, 0, 1, 0, 1, 0, 0,\n",
       "       0, 1, 0, 1, 0, 1, 0, 1, 0, 1, 0, 1, 1, 1, 0, 1, 0, 1, 0, 1, 0, 1,\n",
       "       0, 1, 0, 1, 0, 0, 0, 1, 0, 1, 0, 1, 0, 0, 0, 0, 0, 1, 0, 0, 0, 1,\n",
       "       0, 1, 1, 1, 1, 1, 0, 1, 1, 1, 0, 1, 0, 0])"
      ]
     },
     "execution_count": 89,
     "metadata": {},
     "output_type": "execute_result"
    }
   ],
   "source": [
    "clf.predict(Xtest)"
   ]
  },
  {
   "cell_type": "markdown",
   "id": "d26c32c9",
   "metadata": {},
   "source": [
    "## predict接口"
   ]
  },
  {
   "cell_type": "code",
   "execution_count": 90,
   "id": "95adc663",
   "metadata": {},
   "outputs": [],
   "source": [
    "from sklearn.metrics import accuracy_score as acc"
   ]
  },
  {
   "cell_type": "code",
   "execution_count": 91,
   "id": "9c2496c2",
   "metadata": {},
   "outputs": [],
   "source": [
    "score = cm(Ytest,clf.predict(Xtest))"
   ]
  },
  {
   "cell_type": "code",
   "execution_count": 92,
   "id": "3ac46356",
   "metadata": {},
   "outputs": [
    {
     "data": {
      "text/plain": [
       "array([[217,  43],\n",
       "       [ 51, 209]])"
      ]
     },
     "execution_count": 92,
     "metadata": {},
     "output_type": "execute_result"
    }
   ],
   "source": [
    "score"
   ]
  },
  {
   "cell_type": "code",
   "execution_count": 99,
   "id": "52c1dea2",
   "metadata": {},
   "outputs": [],
   "source": [
    "from sklearn.metrics import roc_curve\n",
    "\n",
    "FPR, recall, thresholds = roc_curve(Ytest,clf.predict_proba(Xtest)[:,1])"
   ]
  },
  {
   "cell_type": "code",
   "execution_count": 100,
   "id": "b5495408",
   "metadata": {},
   "outputs": [],
   "source": [
    "area = auc(Ytest,clf.predict_proba(Xtest)[:,1])"
   ]
  },
  {
   "cell_type": "code",
   "execution_count": 101,
   "id": "628e408a",
   "metadata": {},
   "outputs": [
    {
     "data": {
      "image/png": "[encoded data removed]",
      "text/plain": [
       "<Figure size 432x288 with 1 Axes>"
      ]
     },
     "metadata": {
      "needs_background": "light"
     },
     "output_type": "display_data"
    }
   ],
   "source": [
    "plt.figure()\n",
    "plt.plot(FPR, recall, color='red',\n",
    "         label='ROC curve (area = %0.2f)' % area)\n",
    "plt.plot([0, 1], [0, 1], color='black',linestyle='--')\n",
    "plt.xlim([-0.05, 1.05])\n",
    "plt.ylim([-0.05, 1.05])\n",
    "plt.xlabel('False Positive Rate')\n",
    "plt.ylabel('Recall')\n",
    "plt.title('Receiver operating characteristic example')\n",
    "plt.legend(loc=\"lower right\")\n",
    "plt.show()"
   ]
  },
  {
   "cell_type": "code",
   "execution_count": null,
   "id": "b9c29cc7",
   "metadata": {},
   "outputs": [],
   "source": []
  },
  {
   "cell_type": "markdown",
   "id": "07a203a9",
   "metadata": {},
   "source": [
    "## tuning"
   ]
  },
  {
   "cell_type": "code",
   "execution_count": 118,
   "id": "99d81468",
   "metadata": {},
   "outputs": [
    {
     "data": {
      "text/plain": [
       "0.8096153846153846"
      ]
     },
     "execution_count": 118,
     "metadata": {},
     "output_type": "execute_result"
    }
   ],
   "source": [
    "clf = XGBC(n_estimators=73\n",
    "         ,random_state=420\n",
    "         ,use_label_encoder=False\n",
    "         ,eval_metric='auc'\n",
    "         ,max_depth=3\n",
    "         ,objective='multi:softmax'\n",
    "         ,num_class=2\n",
    "         ,tree_method='gpu_hist'\n",
    "         ,subsample=0.7653061224489796\n",
    "         ,learning_rate=0.017368421052631578\n",
    "         ,gamma = 7\n",
    "         ,colsample_bytree=1\n",
    "         ,min_child_weight=0\n",
    "         ,colsample_bylevel=1  #0.54\n",
    "#          ,reg_alpha=0\n",
    "#          ,reg_lambda=0.35\n",
    "          )\n",
    "\n",
    "clf = clf.fit(Xtrain,Ytrain)\n",
    "score = clf.score(Xtest,Ytest)\n",
    "score"
   ]
  },
  {
   "cell_type": "code",
   "execution_count": 84,
   "id": "957d1e98",
   "metadata": {},
   "outputs": [
    {
     "name": "stdout",
     "output_type": "stream",
     "text": [
      "73 0.7964285714285714\n"
     ]
    },
    {
     "data": {
      "image/png": "[encoded data removed]",
      "text/plain": [
       "<Figure size 1440x360 with 1 Axes>"
      ]
     },
     "metadata": {
      "needs_background": "light"
     },
     "output_type": "display_data"
    }
   ],
   "source": [
    "axisx = np.arange(60,90,1)\n",
    "rs = []\n",
    "for i in axisx:\n",
    "    clf = XGBC(n_estimators=i\n",
    "               ,random_state=420\n",
    "               ,use_label_encoder=False\n",
    "               ,eval_metric='auc'\n",
    "               ,max_depth=3\n",
    "#              ,objective='multi:softmax'\n",
    "#              ,num_class=2\n",
    "#                ,tree_method='gpu_hist'\n",
    "#                ,learning_rate=0.175\n",
    "#                ,gamma = 22\n",
    "#                ,subsample=0.76\n",
    "#                ,colsample_bytree=1\n",
    "#                ,min_child_weight=1\n",
    "#                ,colsample_bylevel=0.54\n",
    "#                ,reg_alpha=0\n",
    "#                ,reg_lambda=0.35\n",
    "              )\n",
    "#     clf = clf.fit(Xtrain,Ytrain)\n",
    "#     rs.append(clf.score(Xtest,Ytest))\n",
    "    rs.append(CVS(clf,Xtrain,Ytrain,cv=5).mean())\n",
    "print(axisx[rs.index(max(rs))],max(rs))\n",
    "plt.figure(figsize=(20,5))\n",
    "plt.plot(axisx,rs,c=\"red\",label=\"XGB\")\n",
    "plt.legend()\n",
    "plt.show()\n",
    "# 73"
   ]
  },
  {
   "cell_type": "code",
   "execution_count": 102,
   "id": "0baf245f",
   "metadata": {},
   "outputs": [
    {
     "name": "stdout",
     "output_type": "stream",
     "text": [
      "0.7653061224489796 0.8\n"
     ]
    },
    {
     "data": {
      "image/png": "[encoded data removed]",
      "text/plain": [
       "<Figure size 1440x360 with 1 Axes>"
      ]
     },
     "metadata": {
      "needs_background": "light"
     },
     "output_type": "display_data"
    }
   ],
   "source": [
    "axisx = np.linspace(0.5,1,50)\n",
    "rs = []\n",
    "for i in axisx:\n",
    "    clf = XGBC(n_estimators=73 #27\n",
    "               ,random_state=420\n",
    "               ,use_label_encoder=False\n",
    "               ,eval_metric='auc'\n",
    "               ,max_depth=3  #5\n",
    "#              ,objective='multi:softmax'\n",
    "#              ,num_class=2\n",
    "               ,tree_method='gpu_hist'\n",
    "#                ,learning_rate=0.175\n",
    "#                ,gamma = 22\n",
    "               ,subsample=i\n",
    "#                ,colsample_bytree=1\n",
    "#                ,min_child_weight=1\n",
    "#                ,colsample_bylevel=0.54\n",
    "#                ,reg_alpha=0\n",
    "#                ,reg_lambda=0.35\n",
    "              )\n",
    "    clf = clf.fit(Xtrain,Ytrain)\n",
    "    rs.append(clf.score(Xtest,Ytest))\n",
    "print(axisx[rs.index(max(rs))],max(rs))\n",
    "plt.figure(figsize=(20,5))\n",
    "plt.plot(axisx,rs,c=\"red\",label=\"XGB\")\n",
    "plt.legend()\n",
    "plt.show()\n",
    "# 保留0.7653061224489796"
   ]
  },
  {
   "cell_type": "code",
   "execution_count": 106,
   "id": "530509d6",
   "metadata": {},
   "outputs": [
    {
     "name": "stdout",
     "output_type": "stream",
     "text": [
      "0.017368421052631578 0.8211538461538461\n"
     ]
    },
    {
     "data": {
      "image/png": "[encoded data removed]",
      "text/plain": [
       "<Figure size 1440x360 with 1 Axes>"
      ]
     },
     "metadata": {
      "needs_background": "light"
     },
     "output_type": "display_data"
    }
   ],
   "source": [
    "axisx = np.linspace(0,0.03,20)\n",
    "rs = []\n",
    "for i in axisx:\n",
    "    clf = XGBC(n_estimators=73 #27\n",
    "               ,random_state=420\n",
    "               ,use_label_encoder=False\n",
    "               ,eval_metric='auc'\n",
    "               ,max_depth=3  #5\n",
    "#              ,objective='multi:softmax'\n",
    "#              ,num_class=2\n",
    "               ,tree_method='gpu_hist'\n",
    "               ,learning_rate=i\n",
    "#                ,gamma = 22\n",
    "               ,subsample=0.7653061224489796\n",
    "#                ,colsample_bytree=1\n",
    "#                ,min_child_weight=1\n",
    "#                ,colsample_bylevel=0.54\n",
    "#                ,reg_alpha=0\n",
    "#                ,reg_lambda=0.35\n",
    "              )\n",
    "    clf = clf.fit(Xtrain,Ytrain)\n",
    "    rs.append(clf.score(Xtest,Ytest))\n",
    "print(axisx[rs.index(max(rs))],max(rs))\n",
    "plt.figure(figsize=(20,5))\n",
    "plt.plot(axisx,rs,c=\"red\",label=\"XGB\")\n",
    "plt.legend()\n",
    "plt.show()"
   ]
  },
  {
   "cell_type": "code",
   "execution_count": 110,
   "id": "ed87b7d7",
   "metadata": {},
   "outputs": [
    {
     "name": "stdout",
     "output_type": "stream",
     "text": [
      "7 0.825\n"
     ]
    },
    {
     "data": {
      "image/png": "[encoded data removed]",
      "text/plain": [
       "<Figure size 1440x360 with 1 Axes>"
      ]
     },
     "metadata": {
      "needs_background": "light"
     },
     "output_type": "display_data"
    }
   ],
   "source": [
    "axisx = np.arange(0,11,1)\n",
    "rs = []\n",
    "for i in axisx:\n",
    "    clf = XGBC(n_estimators=73 #27\n",
    "               ,random_state=420\n",
    "               ,use_label_encoder=False\n",
    "               ,eval_metric='auc'\n",
    "               ,max_depth=3  #5\n",
    "#              ,objective='multi:softmax'\n",
    "#              ,num_class=2\n",
    "               ,tree_method='gpu_hist'\n",
    "               ,learning_rate=0.017368421052631578\n",
    "               ,gamma = i\n",
    "               ,subsample=0.7653061224489796\n",
    "#                ,colsample_bytree=1\n",
    "#                ,min_child_weight=1\n",
    "#                ,colsample_bylevel=0.54\n",
    "#                ,reg_alpha=0\n",
    "#                ,reg_lambda=0.35\n",
    "              )\n",
    "    clf = clf.fit(Xtrain,Ytrain)\n",
    "    rs.append(clf.score(Xtest,Ytest))\n",
    "print(axisx[rs.index(max(rs))],max(rs))\n",
    "plt.figure(figsize=(20,5))\n",
    "plt.plot(axisx,rs,c=\"red\",label=\"XGB\")\n",
    "plt.legend()\n",
    "plt.show()"
   ]
  },
  {
   "cell_type": "code",
   "execution_count": 117,
   "id": "e4009090",
   "metadata": {},
   "outputs": [
    {
     "name": "stdout",
     "output_type": "stream",
     "text": [
      "1.0 0.825\n"
     ]
    },
    {
     "data": {
      "image/png": "[encoded data removed]",
      "text/plain": [
       "<Figure size 1440x360 with 1 Axes>"
      ]
     },
     "metadata": {
      "needs_background": "light"
     },
     "output_type": "display_data"
    }
   ],
   "source": [
    "axisx = np.linspace(0,1,20)\n",
    "rs = []\n",
    "for i in axisx:\n",
    "    clf = XGBC(n_estimators=73 #27\n",
    "               ,random_state=420\n",
    "               ,use_label_encoder=False\n",
    "               ,eval_metric='auc'\n",
    "               ,max_depth=3  #5\n",
    "#              ,objective='multi:softmax'\n",
    "#              ,num_class=2\n",
    "               ,tree_method='gpu_hist'\n",
    "               ,learning_rate=0.017368421052631578\n",
    "               ,gamma = 7\n",
    "               ,subsample=0.7653061224489796\n",
    "               ,colsample_bytree=1\n",
    "#                ,min_child_weight=1\n",
    "               ,colsample_bylevel=i\n",
    "#                ,reg_alpha=0\n",
    "#                ,reg_lambda=0.35\n",
    "              )\n",
    "    clf = clf.fit(Xtrain,Ytrain)\n",
    "    rs.append(clf.score(Xtest,Ytest))\n",
    "print(axisx[rs.index(max(rs))],max(rs))\n",
    "plt.figure(figsize=(20,5))\n",
    "plt.plot(axisx,rs,c=\"red\",label=\"XGB\")\n",
    "plt.legend()\n",
    "plt.show()"
   ]
  },
  {
   "cell_type": "markdown",
   "id": "462cf155",
   "metadata": {},
   "source": [
    "## grid search"
   ]
  },
  {
   "cell_type": "code",
   "execution_count": 5,
   "id": "e719f6a5",
   "metadata": {},
   "outputs": [],
   "source": [
    "from sklearn.model_selection import GridSearchCV\n",
    "\n",
    "# param = {'max_depth':np.arange(1,8,1), 'learning_rate':np.arange(0.05,1,0.05)}\n",
    "param = {'gamma':np.arange(1,40,1)}\n",
    "\n",
    "gscv = GridSearchCV(clf,param_grid = param,scoring='accuracy',cv=5)"
   ]
  },
  {
   "cell_type": "code",
   "execution_count": 6,
   "id": "5f5ff08d",
   "metadata": {},
   "outputs": [
    {
     "data": {
      "text/plain": [
       "GridSearchCV(cv=5,\n",
       "             estimator=XGBClassifier(base_score=0.5, booster='gbtree',\n",
       "                                     colsample_bylevel=1, colsample_bynode=1,\n",
       "                                     colsample_bytree=1,\n",
       "                                     enable_categorical=False,\n",
       "                                     eval_metric='auc', gamma=0, gpu_id=0,\n",
       "                                     importance_type=None,\n",
       "                                     interaction_constraints='',\n",
       "                                     learning_rate=0.3, max_delta_step=0,\n",
       "                                     max_depth=3, min_child_weight=1,\n",
       "                                     missing=nan, monotone_constraints='()',\n",
       "                                     n_esti...\n",
       "                                     num_parallel_tree=1, predictor='auto',\n",
       "                                     random_state=420, reg_alpha=0,\n",
       "                                     reg_lambda=1, scale_pos_weight=1,\n",
       "                                     subsample=1, tree_method='gpu_hist',\n",
       "                                     use_label_encoder=False,\n",
       "                                     validate_parameters=1, verbosity=None),\n",
       "             param_grid={'gamma': array([ 1,  2,  3,  4,  5,  6,  7,  8,  9, 10, 11, 12, 13, 14, 15, 16, 17,\n",
       "       18, 19, 20, 21, 22, 23, 24, 25, 26, 27, 28, 29, 30, 31, 32, 33, 34,\n",
       "       35, 36, 37, 38, 39])},\n",
       "             scoring='accuracy')"
      ]
     },
     "execution_count": 6,
     "metadata": {},
     "output_type": "execute_result"
    }
   ],
   "source": [
    "gscv.fit(Xtrain,Ytrain)"
   ]
  },
  {
   "cell_type": "code",
   "execution_count": 7,
   "id": "b7ed6f0a",
   "metadata": {},
   "outputs": [
    {
     "data": {
      "text/plain": [
       "{'gamma': 3}"
      ]
     },
     "execution_count": 7,
     "metadata": {},
     "output_type": "execute_result"
    }
   ],
   "source": [
    "gscv.best_params_"
   ]
  },
  {
   "cell_type": "code",
   "execution_count": 8,
   "id": "29d1c19d",
   "metadata": {},
   "outputs": [
    {
     "data": {
      "text/plain": [
       "0.7814285714285714"
      ]
     },
     "execution_count": 8,
     "metadata": {},
     "output_type": "execute_result"
    }
   ],
   "source": [
    "gscv.best_score_"
   ]
  },
  {
   "cell_type": "code",
   "execution_count": null,
   "id": "71dc3af7",
   "metadata": {},
   "outputs": [],
   "source": []
  },
  {
   "cell_type": "markdown",
   "id": "7fbda651",
   "metadata": {},
   "source": [
    "# 4-classes"
   ]
  },
  {
   "cell_type": "code",
   "execution_count": 3,
   "id": "b7698b84",
   "metadata": {},
   "outputs": [],
   "source": [
    "Xtrain, Ytrain, Xval, Yval = joblib.load('/home/yfy/Desktop/projects/NII_image_classify/Multi_classification/4c_new_bof_xy.pkl')"
   ]
  },
  {
   "cell_type": "code",
   "execution_count": 4,
   "id": "49d1463e",
   "metadata": {},
   "outputs": [],
   "source": [
    "Xtrain = np.array(Xtrain)\n",
    "Ytrain = np.array(Ytrain)\n",
    "Xval = np.array(Xval)\n",
    "Yval = np.array(Yval)"
   ]
  },
  {
   "cell_type": "code",
   "execution_count": 5,
   "id": "76b45be5",
   "metadata": {},
   "outputs": [
    {
     "data": {
      "text/plain": [
       "(2800, 200)"
      ]
     },
     "execution_count": 5,
     "metadata": {},
     "output_type": "execute_result"
    }
   ],
   "source": [
    "Xtrain.shape"
   ]
  },
  {
   "cell_type": "code",
   "execution_count": 6,
   "id": "a86f7dd4",
   "metadata": {},
   "outputs": [
    {
     "data": {
      "text/plain": [
       "(2800,)"
      ]
     },
     "execution_count": 6,
     "metadata": {},
     "output_type": "execute_result"
    }
   ],
   "source": [
    "Ytrain.shape"
   ]
  },
  {
   "cell_type": "code",
   "execution_count": 7,
   "id": "52702213",
   "metadata": {},
   "outputs": [
    {
     "data": {
      "text/plain": [
       "(1040, 200)"
      ]
     },
     "execution_count": 7,
     "metadata": {},
     "output_type": "execute_result"
    }
   ],
   "source": [
    "Xval.shape"
   ]
  },
  {
   "cell_type": "code",
   "execution_count": 8,
   "id": "a868a7e3",
   "metadata": {},
   "outputs": [
    {
     "data": {
      "text/plain": [
       "(1040,)"
      ]
     },
     "execution_count": 8,
     "metadata": {},
     "output_type": "execute_result"
    }
   ],
   "source": [
    "Yval.shape"
   ]
  },
  {
   "cell_type": "code",
   "execution_count": 11,
   "id": "8efbc0d2",
   "metadata": {
    "scrolled": true
   },
   "outputs": [
    {
     "name": "stdout",
     "output_type": "stream",
     "text": [
      "[10:59:50] WARNING: ../src/metric/auc.cc:307: Dataset contains only positive or negative samples.\n",
      "[0]\tvalidation_0-auc:nan\n",
      "[10:59:50] WARNING: ../src/metric/auc.cc:307: Dataset contains only positive or negative samples.\n",
      "[1]\tvalidation_0-auc:nan\n",
      "[10:59:51] WARNING: ../src/metric/auc.cc:307: Dataset contains only positive or negative samples.\n",
      "[2]\tvalidation_0-auc:nan\n",
      "[10:59:51] WARNING: ../src/metric/auc.cc:307: Dataset contains only positive or negative samples.\n",
      "[3]\tvalidation_0-auc:nan\n",
      "[10:59:51] WARNING: ../src/metric/auc.cc:307: Dataset contains only positive or negative samples.\n",
      "[4]\tvalidation_0-auc:nan\n",
      "[10:59:51] WARNING: ../src/metric/auc.cc:307: Dataset contains only positive or negative samples.\n",
      "[5]\tvalidation_0-auc:nan\n",
      "[10:59:51] WARNING: ../src/metric/auc.cc:307: Dataset contains only positive or negative samples.\n",
      "[6]\tvalidation_0-auc:nan\n",
      "[10:59:51] WARNING: ../src/metric/auc.cc:307: Dataset contains only positive or negative samples.\n",
      "[7]\tvalidation_0-auc:nan\n",
      "[10:59:51] WARNING: ../src/metric/auc.cc:307: Dataset contains only positive or negative samples.\n",
      "[8]\tvalidation_0-auc:nan\n",
      "[10:59:51] WARNING: ../src/metric/auc.cc:307: Dataset contains only positive or negative samples.\n",
      "[9]\tvalidation_0-auc:nan\n",
      "[10:59:52] WARNING: ../src/metric/auc.cc:307: Dataset contains only positive or negative samples.\n",
      "[10]\tvalidation_0-auc:nan\n",
      "[10:59:52] WARNING: ../src/metric/auc.cc:307: Dataset contains only positive or negative samples.\n",
      "[11]\tvalidation_0-auc:nan\n",
      "[10:59:52] WARNING: ../src/metric/auc.cc:307: Dataset contains only positive or negative samples.\n",
      "[12]\tvalidation_0-auc:nan\n",
      "[10:59:52] WARNING: ../src/metric/auc.cc:307: Dataset contains only positive or negative samples.\n",
      "[13]\tvalidation_0-auc:nan\n",
      "[10:59:52] WARNING: ../src/metric/auc.cc:307: Dataset contains only positive or negative samples.\n",
      "[14]\tvalidation_0-auc:nan\n",
      "[10:59:52] WARNING: ../src/metric/auc.cc:307: Dataset contains only positive or negative samples.\n",
      "[15]\tvalidation_0-auc:nan\n",
      "[10:59:52] WARNING: ../src/metric/auc.cc:307: Dataset contains only positive or negative samples.\n",
      "[16]\tvalidation_0-auc:nan\n",
      "[10:59:52] WARNING: ../src/metric/auc.cc:307: Dataset contains only positive or negative samples.\n",
      "[17]\tvalidation_0-auc:nan\n",
      "[10:59:52] WARNING: ../src/metric/auc.cc:307: Dataset contains only positive or negative samples.\n",
      "[18]\tvalidation_0-auc:nan\n",
      "[10:59:52] WARNING: ../src/metric/auc.cc:307: Dataset contains only positive or negative samples.\n",
      "[19]\tvalidation_0-auc:nan\n",
      "[10:59:53] WARNING: ../src/metric/auc.cc:307: Dataset contains only positive or negative samples.\n",
      "[20]\tvalidation_0-auc:nan\n",
      "[10:59:53] WARNING: ../src/metric/auc.cc:307: Dataset contains only positive or negative samples.\n",
      "[21]\tvalidation_0-auc:nan\n",
      "[10:59:53] WARNING: ../src/metric/auc.cc:307: Dataset contains only positive or negative samples.\n",
      "[22]\tvalidation_0-auc:nan\n",
      "[10:59:53] WARNING: ../src/metric/auc.cc:307: Dataset contains only positive or negative samples.\n",
      "[23]\tvalidation_0-auc:nan\n",
      "[10:59:53] WARNING: ../src/metric/auc.cc:307: Dataset contains only positive or negative samples.\n",
      "[24]\tvalidation_0-auc:nan\n",
      "[10:59:53] WARNING: ../src/metric/auc.cc:307: Dataset contains only positive or negative samples.\n",
      "[25]\tvalidation_0-auc:nan\n",
      "[10:59:53] WARNING: ../src/metric/auc.cc:307: Dataset contains only positive or negative samples.\n",
      "[26]\tvalidation_0-auc:nan\n",
      "[10:59:53] WARNING: ../src/metric/auc.cc:307: Dataset contains only positive or negative samples.\n",
      "[27]\tvalidation_0-auc:nan\n",
      "[10:59:53] WARNING: ../src/metric/auc.cc:307: Dataset contains only positive or negative samples.\n",
      "[28]\tvalidation_0-auc:nan\n",
      "[10:59:53] WARNING: ../src/metric/auc.cc:307: Dataset contains only positive or negative samples.\n",
      "[29]\tvalidation_0-auc:nan\n",
      "[10:59:54] WARNING: ../src/metric/auc.cc:307: Dataset contains only positive or negative samples.\n",
      "[30]\tvalidation_0-auc:nan\n",
      "[10:59:54] WARNING: ../src/metric/auc.cc:307: Dataset contains only positive or negative samples.\n",
      "[31]\tvalidation_0-auc:nan\n",
      "[10:59:54] WARNING: ../src/metric/auc.cc:307: Dataset contains only positive or negative samples.\n",
      "[32]\tvalidation_0-auc:nan\n",
      "[10:59:54] WARNING: ../src/metric/auc.cc:307: Dataset contains only positive or negative samples.\n",
      "[33]\tvalidation_0-auc:nan\n",
      "[10:59:54] WARNING: ../src/metric/auc.cc:307: Dataset contains only positive or negative samples.\n",
      "[34]\tvalidation_0-auc:nan\n",
      "[10:59:54] WARNING: ../src/metric/auc.cc:307: Dataset contains only positive or negative samples.\n",
      "[35]\tvalidation_0-auc:nan\n",
      "[10:59:54] WARNING: ../src/metric/auc.cc:307: Dataset contains only positive or negative samples.\n",
      "[36]\tvalidation_0-auc:nan\n",
      "[10:59:54] WARNING: ../src/metric/auc.cc:307: Dataset contains only positive or negative samples.\n",
      "[37]\tvalidation_0-auc:nan\n",
      "[10:59:55] WARNING: ../src/metric/auc.cc:307: Dataset contains only positive or negative samples.\n",
      "[38]\tvalidation_0-auc:nan\n",
      "[10:59:55] WARNING: ../src/metric/auc.cc:307: Dataset contains only positive or negative samples.\n",
      "[39]\tvalidation_0-auc:nan\n",
      "[10:59:55] WARNING: ../src/metric/auc.cc:307: Dataset contains only positive or negative samples.\n",
      "[40]\tvalidation_0-auc:nan\n",
      "[10:59:55] WARNING: ../src/metric/auc.cc:307: Dataset contains only positive or negative samples.\n",
      "[41]\tvalidation_0-auc:nan\n",
      "[10:59:55] WARNING: ../src/metric/auc.cc:307: Dataset contains only positive or negative samples.\n",
      "[42]\tvalidation_0-auc:nan\n",
      "[10:59:55] WARNING: ../src/metric/auc.cc:307: Dataset contains only positive or negative samples.\n",
      "[43]\tvalidation_0-auc:nan\n",
      "[10:59:55] WARNING: ../src/metric/auc.cc:307: Dataset contains only positive or negative samples.\n",
      "[44]\tvalidation_0-auc:nan\n",
      "[10:59:55] WARNING: ../src/metric/auc.cc:307: Dataset contains only positive or negative samples.\n",
      "[45]\tvalidation_0-auc:nan\n",
      "[10:59:55] WARNING: ../src/metric/auc.cc:307: Dataset contains only positive or negative samples.\n",
      "[46]\tvalidation_0-auc:nan\n",
      "[10:59:55] WARNING: ../src/metric/auc.cc:307: Dataset contains only positive or negative samples.\n",
      "[47]\tvalidation_0-auc:nan\n",
      "[10:59:56] WARNING: ../src/metric/auc.cc:307: Dataset contains only positive or negative samples.\n",
      "[48]\tvalidation_0-auc:nan\n",
      "[10:59:56] WARNING: ../src/metric/auc.cc:307: Dataset contains only positive or negative samples.\n",
      "[49]\tvalidation_0-auc:nan\n",
      "[10:59:56] WARNING: ../src/metric/auc.cc:307: Dataset contains only positive or negative samples.\n",
      "[50]\tvalidation_0-auc:nan\n",
      "[10:59:56] WARNING: ../src/metric/auc.cc:307: Dataset contains only positive or negative samples.\n",
      "[51]\tvalidation_0-auc:nan\n",
      "[10:59:56] WARNING: ../src/metric/auc.cc:307: Dataset contains only positive or negative samples.\n",
      "[52]\tvalidation_0-auc:nan\n",
      "[10:59:56] WARNING: ../src/metric/auc.cc:307: Dataset contains only positive or negative samples.\n",
      "[53]\tvalidation_0-auc:nan\n",
      "[10:59:56] WARNING: ../src/metric/auc.cc:307: Dataset contains only positive or negative samples.\n",
      "[54]\tvalidation_0-auc:nan\n",
      "[10:59:56] WARNING: ../src/metric/auc.cc:307: Dataset contains only positive or negative samples.\n",
      "[55]\tvalidation_0-auc:nan\n",
      "[10:59:56] WARNING: ../src/metric/auc.cc:307: Dataset contains only positive or negative samples.\n",
      "[56]\tvalidation_0-auc:nan\n",
      "[10:59:56] WARNING: ../src/metric/auc.cc:307: Dataset contains only positive or negative samples.\n",
      "[57]\tvalidation_0-auc:nan\n",
      "[10:59:56] WARNING: ../src/metric/auc.cc:307: Dataset contains only positive or negative samples.\n",
      "[58]\tvalidation_0-auc:nan\n",
      "[10:59:56] WARNING: ../src/metric/auc.cc:307: Dataset contains only positive or negative samples.\n",
      "[59]\tvalidation_0-auc:nan\n",
      "[10:59:57] WARNING: ../src/metric/auc.cc:307: Dataset contains only positive or negative samples.\n",
      "[60]\tvalidation_0-auc:nan\n",
      "[10:59:57] WARNING: ../src/metric/auc.cc:307: Dataset contains only positive or negative samples.\n",
      "[61]\tvalidation_0-auc:nan\n",
      "[10:59:57] WARNING: ../src/metric/auc.cc:307: Dataset contains only positive or negative samples.\n",
      "[62]\tvalidation_0-auc:nan\n",
      "[10:59:57] WARNING: ../src/metric/auc.cc:307: Dataset contains only positive or negative samples.\n",
      "[63]\tvalidation_0-auc:nan\n",
      "[10:59:57] WARNING: ../src/metric/auc.cc:307: Dataset contains only positive or negative samples.\n",
      "[64]\tvalidation_0-auc:nan\n",
      "[10:59:57] WARNING: ../src/metric/auc.cc:307: Dataset contains only positive or negative samples.\n",
      "[65]\tvalidation_0-auc:nan\n",
      "[10:59:57] WARNING: ../src/metric/auc.cc:307: Dataset contains only positive or negative samples.\n",
      "[66]\tvalidation_0-auc:nan\n"
     ]
    },
    {
     "name": "stdout",
     "output_type": "stream",
     "text": [
      "[10:59:57] WARNING: ../src/metric/auc.cc:307: Dataset contains only positive or negative samples.\n",
      "[67]\tvalidation_0-auc:nan\n",
      "[10:59:57] WARNING: ../src/metric/auc.cc:307: Dataset contains only positive or negative samples.\n",
      "[68]\tvalidation_0-auc:nan\n",
      "[10:59:57] WARNING: ../src/metric/auc.cc:307: Dataset contains only positive or negative samples.\n",
      "[69]\tvalidation_0-auc:nan\n",
      "[10:59:57] WARNING: ../src/metric/auc.cc:307: Dataset contains only positive or negative samples.\n",
      "[70]\tvalidation_0-auc:nan\n",
      "[10:59:57] WARNING: ../src/metric/auc.cc:307: Dataset contains only positive or negative samples.\n",
      "[71]\tvalidation_0-auc:nan\n",
      "[10:59:58] WARNING: ../src/metric/auc.cc:307: Dataset contains only positive or negative samples.\n",
      "[72]\tvalidation_0-auc:nan\n",
      "[10:59:58] WARNING: ../src/metric/auc.cc:307: Dataset contains only positive or negative samples.\n",
      "[73]\tvalidation_0-auc:nan\n",
      "[10:59:58] WARNING: ../src/metric/auc.cc:307: Dataset contains only positive or negative samples.\n",
      "[74]\tvalidation_0-auc:nan\n",
      "[10:59:58] WARNING: ../src/metric/auc.cc:307: Dataset contains only positive or negative samples.\n",
      "[75]\tvalidation_0-auc:nan\n",
      "[10:59:58] WARNING: ../src/metric/auc.cc:307: Dataset contains only positive or negative samples.\n",
      "[76]\tvalidation_0-auc:nan\n",
      "[10:59:58] WARNING: ../src/metric/auc.cc:307: Dataset contains only positive or negative samples.\n",
      "[77]\tvalidation_0-auc:nan\n",
      "[10:59:58] WARNING: ../src/metric/auc.cc:307: Dataset contains only positive or negative samples.\n",
      "[78]\tvalidation_0-auc:nan\n",
      "[10:59:58] WARNING: ../src/metric/auc.cc:307: Dataset contains only positive or negative samples.\n",
      "[79]\tvalidation_0-auc:nan\n",
      "[10:59:58] WARNING: ../src/metric/auc.cc:307: Dataset contains only positive or negative samples.\n",
      "[80]\tvalidation_0-auc:nan\n",
      "[10:59:58] WARNING: ../src/metric/auc.cc:307: Dataset contains only positive or negative samples.\n",
      "[81]\tvalidation_0-auc:nan\n",
      "[10:59:58] WARNING: ../src/metric/auc.cc:307: Dataset contains only positive or negative samples.\n",
      "[82]\tvalidation_0-auc:nan\n",
      "[10:59:58] WARNING: ../src/metric/auc.cc:307: Dataset contains only positive or negative samples.\n",
      "[83]\tvalidation_0-auc:nan\n",
      "[10:59:58] WARNING: ../src/metric/auc.cc:307: Dataset contains only positive or negative samples.\n",
      "[84]\tvalidation_0-auc:nan\n",
      "[10:59:58] WARNING: ../src/metric/auc.cc:307: Dataset contains only positive or negative samples.\n",
      "[85]\tvalidation_0-auc:nan\n",
      "[10:59:59] WARNING: ../src/metric/auc.cc:307: Dataset contains only positive or negative samples.\n",
      "[86]\tvalidation_0-auc:nan\n",
      "[10:59:59] WARNING: ../src/metric/auc.cc:307: Dataset contains only positive or negative samples.\n",
      "[87]\tvalidation_0-auc:nan\n",
      "[10:59:59] WARNING: ../src/metric/auc.cc:307: Dataset contains only positive or negative samples.\n",
      "[88]\tvalidation_0-auc:nan\n",
      "[10:59:59] WARNING: ../src/metric/auc.cc:307: Dataset contains only positive or negative samples.\n",
      "[89]\tvalidation_0-auc:nan\n",
      "[10:59:59] WARNING: ../src/metric/auc.cc:307: Dataset contains only positive or negative samples.\n",
      "[90]\tvalidation_0-auc:nan\n",
      "[10:59:59] WARNING: ../src/metric/auc.cc:307: Dataset contains only positive or negative samples.\n",
      "[91]\tvalidation_0-auc:nan\n",
      "[10:59:59] WARNING: ../src/metric/auc.cc:307: Dataset contains only positive or negative samples.\n",
      "[92]\tvalidation_0-auc:nan\n",
      "[10:59:59] WARNING: ../src/metric/auc.cc:307: Dataset contains only positive or negative samples.\n",
      "[93]\tvalidation_0-auc:nan\n",
      "[10:59:59] WARNING: ../src/metric/auc.cc:307: Dataset contains only positive or negative samples.\n",
      "[94]\tvalidation_0-auc:nan\n",
      "[10:59:59] WARNING: ../src/metric/auc.cc:307: Dataset contains only positive or negative samples.\n",
      "[95]\tvalidation_0-auc:nan\n",
      "[10:59:59] WARNING: ../src/metric/auc.cc:307: Dataset contains only positive or negative samples.\n",
      "[96]\tvalidation_0-auc:nan\n",
      "[10:59:59] WARNING: ../src/metric/auc.cc:307: Dataset contains only positive or negative samples.\n",
      "[97]\tvalidation_0-auc:nan\n",
      "[10:59:59] WARNING: ../src/metric/auc.cc:307: Dataset contains only positive or negative samples.\n",
      "[98]\tvalidation_0-auc:nan\n",
      "[11:00:00] WARNING: ../src/metric/auc.cc:307: Dataset contains only positive or negative samples.\n",
      "[99]\tvalidation_0-auc:nan\n",
      "[11:00:00] WARNING: ../src/metric/auc.cc:307: Dataset contains only positive or negative samples.\n",
      "[100]\tvalidation_0-auc:nan\n",
      "[11:00:00] WARNING: ../src/metric/auc.cc:307: Dataset contains only positive or negative samples.\n",
      "[101]\tvalidation_0-auc:nan\n",
      "[11:00:00] WARNING: ../src/metric/auc.cc:307: Dataset contains only positive or negative samples.\n",
      "[102]\tvalidation_0-auc:nan\n",
      "[11:00:00] WARNING: ../src/metric/auc.cc:307: Dataset contains only positive or negative samples.\n",
      "[103]\tvalidation_0-auc:nan\n",
      "[11:00:00] WARNING: ../src/metric/auc.cc:307: Dataset contains only positive or negative samples.\n",
      "[104]\tvalidation_0-auc:nan\n",
      "[11:00:00] WARNING: ../src/metric/auc.cc:307: Dataset contains only positive or negative samples.\n",
      "[105]\tvalidation_0-auc:nan\n",
      "[11:00:00] WARNING: ../src/metric/auc.cc:307: Dataset contains only positive or negative samples.\n",
      "[106]\tvalidation_0-auc:nan\n",
      "[11:00:00] WARNING: ../src/metric/auc.cc:307: Dataset contains only positive or negative samples.\n",
      "[107]\tvalidation_0-auc:nan\n",
      "[11:00:00] WARNING: ../src/metric/auc.cc:307: Dataset contains only positive or negative samples.\n",
      "[108]\tvalidation_0-auc:nan\n",
      "[11:00:00] WARNING: ../src/metric/auc.cc:307: Dataset contains only positive or negative samples.\n",
      "[109]\tvalidation_0-auc:nan\n",
      "[11:00:00] WARNING: ../src/metric/auc.cc:307: Dataset contains only positive or negative samples.\n",
      "[110]\tvalidation_0-auc:nan\n",
      "[11:00:00] WARNING: ../src/metric/auc.cc:307: Dataset contains only positive or negative samples.\n",
      "[111]\tvalidation_0-auc:nan\n",
      "[11:00:00] WARNING: ../src/metric/auc.cc:307: Dataset contains only positive or negative samples.\n",
      "[112]\tvalidation_0-auc:nan\n",
      "[11:00:00] WARNING: ../src/metric/auc.cc:307: Dataset contains only positive or negative samples.\n",
      "[113]\tvalidation_0-auc:nan\n",
      "[11:00:00] WARNING: ../src/metric/auc.cc:307: Dataset contains only positive or negative samples.\n",
      "[114]\tvalidation_0-auc:nan\n",
      "[11:00:00] WARNING: ../src/metric/auc.cc:307: Dataset contains only positive or negative samples.\n",
      "[115]\tvalidation_0-auc:nan\n",
      "[11:00:00] WARNING: ../src/metric/auc.cc:307: Dataset contains only positive or negative samples.\n",
      "[116]\tvalidation_0-auc:nan\n",
      "[11:00:01] WARNING: ../src/metric/auc.cc:307: Dataset contains only positive or negative samples.\n",
      "[117]\tvalidation_0-auc:nan\n",
      "[11:00:01] WARNING: ../src/metric/auc.cc:307: Dataset contains only positive or negative samples.\n",
      "[118]\tvalidation_0-auc:nan\n",
      "[11:00:01] WARNING: ../src/metric/auc.cc:307: Dataset contains only positive or negative samples.\n",
      "[119]\tvalidation_0-auc:nan\n",
      "[11:00:01] WARNING: ../src/metric/auc.cc:307: Dataset contains only positive or negative samples.\n",
      "[120]\tvalidation_0-auc:nan\n",
      "[11:00:01] WARNING: ../src/metric/auc.cc:307: Dataset contains only positive or negative samples.\n",
      "[121]\tvalidation_0-auc:nan\n",
      "[11:00:01] WARNING: ../src/metric/auc.cc:307: Dataset contains only positive or negative samples.\n",
      "[122]\tvalidation_0-auc:nan\n",
      "[11:00:01] WARNING: ../src/metric/auc.cc:307: Dataset contains only positive or negative samples.\n",
      "[123]\tvalidation_0-auc:nan\n",
      "[11:00:01] WARNING: ../src/metric/auc.cc:307: Dataset contains only positive or negative samples.\n",
      "[124]\tvalidation_0-auc:nan\n",
      "[11:00:01] WARNING: ../src/metric/auc.cc:307: Dataset contains only positive or negative samples.\n",
      "[125]\tvalidation_0-auc:nan\n",
      "[11:00:01] WARNING: ../src/metric/auc.cc:307: Dataset contains only positive or negative samples.\n",
      "[126]\tvalidation_0-auc:nan\n",
      "[11:00:01] WARNING: ../src/metric/auc.cc:307: Dataset contains only positive or negative samples.\n",
      "[127]\tvalidation_0-auc:nan\n",
      "[11:00:01] WARNING: ../src/metric/auc.cc:307: Dataset contains only positive or negative samples.\n",
      "[128]\tvalidation_0-auc:nan\n",
      "[11:00:01] WARNING: ../src/metric/auc.cc:307: Dataset contains only positive or negative samples.\n",
      "[129]\tvalidation_0-auc:nan\n",
      "[11:00:01] WARNING: ../src/metric/auc.cc:307: Dataset contains only positive or negative samples.\n",
      "[130]\tvalidation_0-auc:nan\n",
      "[11:00:01] WARNING: ../src/metric/auc.cc:307: Dataset contains only positive or negative samples.\n",
      "[131]\tvalidation_0-auc:nan\n",
      "[11:00:01] WARNING: ../src/metric/auc.cc:307: Dataset contains only positive or negative samples.\n",
      "[132]\tvalidation_0-auc:nan\n"
     ]
    },
    {
     "name": "stdout",
     "output_type": "stream",
     "text": [
      "[11:00:01] WARNING: ../src/metric/auc.cc:307: Dataset contains only positive or negative samples.\n",
      "[133]\tvalidation_0-auc:nan\n",
      "[11:00:01] WARNING: ../src/metric/auc.cc:307: Dataset contains only positive or negative samples.\n",
      "[134]\tvalidation_0-auc:nan\n",
      "[11:00:01] WARNING: ../src/metric/auc.cc:307: Dataset contains only positive or negative samples.\n",
      "[135]\tvalidation_0-auc:nan\n",
      "[11:00:01] WARNING: ../src/metric/auc.cc:307: Dataset contains only positive or negative samples.\n",
      "[136]\tvalidation_0-auc:nan\n",
      "[11:00:01] WARNING: ../src/metric/auc.cc:307: Dataset contains only positive or negative samples.\n",
      "[137]\tvalidation_0-auc:nan\n",
      "[11:00:02] WARNING: ../src/metric/auc.cc:307: Dataset contains only positive or negative samples.\n",
      "[138]\tvalidation_0-auc:nan\n",
      "[11:00:02] WARNING: ../src/metric/auc.cc:307: Dataset contains only positive or negative samples.\n",
      "[139]\tvalidation_0-auc:nan\n",
      "[11:00:02] WARNING: ../src/metric/auc.cc:307: Dataset contains only positive or negative samples.\n",
      "[140]\tvalidation_0-auc:nan\n",
      "[11:00:02] WARNING: ../src/metric/auc.cc:307: Dataset contains only positive or negative samples.\n",
      "[141]\tvalidation_0-auc:nan\n",
      "[11:00:02] WARNING: ../src/metric/auc.cc:307: Dataset contains only positive or negative samples.\n",
      "[142]\tvalidation_0-auc:nan\n",
      "[11:00:02] WARNING: ../src/metric/auc.cc:307: Dataset contains only positive or negative samples.\n",
      "[143]\tvalidation_0-auc:nan\n",
      "[11:00:02] WARNING: ../src/metric/auc.cc:307: Dataset contains only positive or negative samples.\n",
      "[144]\tvalidation_0-auc:nan\n",
      "[11:00:02] WARNING: ../src/metric/auc.cc:307: Dataset contains only positive or negative samples.\n",
      "[145]\tvalidation_0-auc:nan\n",
      "[11:00:02] WARNING: ../src/metric/auc.cc:307: Dataset contains only positive or negative samples.\n",
      "[146]\tvalidation_0-auc:nan\n",
      "[11:00:02] WARNING: ../src/metric/auc.cc:307: Dataset contains only positive or negative samples.\n",
      "[147]\tvalidation_0-auc:nan\n",
      "[11:00:02] WARNING: ../src/metric/auc.cc:307: Dataset contains only positive or negative samples.\n",
      "[148]\tvalidation_0-auc:nan\n",
      "[11:00:02] WARNING: ../src/metric/auc.cc:307: Dataset contains only positive or negative samples.\n",
      "[149]\tvalidation_0-auc:nan\n",
      "[11:00:02] WARNING: ../src/metric/auc.cc:307: Dataset contains only positive or negative samples.\n",
      "[150]\tvalidation_0-auc:nan\n",
      "[11:00:02] WARNING: ../src/metric/auc.cc:307: Dataset contains only positive or negative samples.\n",
      "[151]\tvalidation_0-auc:nan\n",
      "[11:00:02] WARNING: ../src/metric/auc.cc:307: Dataset contains only positive or negative samples.\n",
      "[152]\tvalidation_0-auc:nan\n",
      "[11:00:02] WARNING: ../src/metric/auc.cc:307: Dataset contains only positive or negative samples.\n",
      "[153]\tvalidation_0-auc:nan\n",
      "[11:00:03] WARNING: ../src/metric/auc.cc:307: Dataset contains only positive or negative samples.\n",
      "[154]\tvalidation_0-auc:nan\n",
      "[11:00:03] WARNING: ../src/metric/auc.cc:307: Dataset contains only positive or negative samples.\n",
      "[155]\tvalidation_0-auc:nan\n",
      "[11:00:03] WARNING: ../src/metric/auc.cc:307: Dataset contains only positive or negative samples.\n",
      "[156]\tvalidation_0-auc:nan\n",
      "[11:00:03] WARNING: ../src/metric/auc.cc:307: Dataset contains only positive or negative samples.\n",
      "[157]\tvalidation_0-auc:nan\n",
      "[11:00:03] WARNING: ../src/metric/auc.cc:307: Dataset contains only positive or negative samples.\n",
      "[158]\tvalidation_0-auc:nan\n",
      "[11:00:03] WARNING: ../src/metric/auc.cc:307: Dataset contains only positive or negative samples.\n",
      "[159]\tvalidation_0-auc:nan\n",
      "[11:00:03] WARNING: ../src/metric/auc.cc:307: Dataset contains only positive or negative samples.\n",
      "[160]\tvalidation_0-auc:nan\n",
      "[11:00:03] WARNING: ../src/metric/auc.cc:307: Dataset contains only positive or negative samples.\n",
      "[161]\tvalidation_0-auc:nan\n",
      "[11:00:03] WARNING: ../src/metric/auc.cc:307: Dataset contains only positive or negative samples.\n",
      "[162]\tvalidation_0-auc:nan\n",
      "[11:00:03] WARNING: ../src/metric/auc.cc:307: Dataset contains only positive or negative samples.\n",
      "[163]\tvalidation_0-auc:nan\n",
      "[11:00:03] WARNING: ../src/metric/auc.cc:307: Dataset contains only positive or negative samples.\n",
      "[164]\tvalidation_0-auc:nan\n",
      "[11:00:03] WARNING: ../src/metric/auc.cc:307: Dataset contains only positive or negative samples.\n",
      "[165]\tvalidation_0-auc:nan\n",
      "[11:00:03] WARNING: ../src/metric/auc.cc:307: Dataset contains only positive or negative samples.\n",
      "[166]\tvalidation_0-auc:nan\n",
      "[11:00:03] WARNING: ../src/metric/auc.cc:307: Dataset contains only positive or negative samples.\n",
      "[167]\tvalidation_0-auc:nan\n",
      "[11:00:03] WARNING: ../src/metric/auc.cc:307: Dataset contains only positive or negative samples.\n",
      "[168]\tvalidation_0-auc:nan\n",
      "[11:00:03] WARNING: ../src/metric/auc.cc:307: Dataset contains only positive or negative samples.\n",
      "[169]\tvalidation_0-auc:nan\n",
      "[11:00:03] WARNING: ../src/metric/auc.cc:307: Dataset contains only positive or negative samples.\n",
      "[170]\tvalidation_0-auc:nan\n",
      "[11:00:04] WARNING: ../src/metric/auc.cc:307: Dataset contains only positive or negative samples.\n",
      "[171]\tvalidation_0-auc:nan\n",
      "[11:00:04] WARNING: ../src/metric/auc.cc:307: Dataset contains only positive or negative samples.\n",
      "[172]\tvalidation_0-auc:nan\n",
      "[11:00:04] WARNING: ../src/metric/auc.cc:307: Dataset contains only positive or negative samples.\n",
      "[173]\tvalidation_0-auc:nan\n",
      "[11:00:04] WARNING: ../src/metric/auc.cc:307: Dataset contains only positive or negative samples.\n",
      "[174]\tvalidation_0-auc:nan\n",
      "[11:00:04] WARNING: ../src/metric/auc.cc:307: Dataset contains only positive or negative samples.\n",
      "[175]\tvalidation_0-auc:nan\n",
      "[11:00:04] WARNING: ../src/metric/auc.cc:307: Dataset contains only positive or negative samples.\n",
      "[176]\tvalidation_0-auc:nan\n",
      "[11:00:04] WARNING: ../src/metric/auc.cc:307: Dataset contains only positive or negative samples.\n",
      "[177]\tvalidation_0-auc:nan\n",
      "[11:00:04] WARNING: ../src/metric/auc.cc:307: Dataset contains only positive or negative samples.\n",
      "[178]\tvalidation_0-auc:nan\n",
      "[11:00:04] WARNING: ../src/metric/auc.cc:307: Dataset contains only positive or negative samples.\n",
      "[179]\tvalidation_0-auc:nan\n",
      "[11:00:04] WARNING: ../src/metric/auc.cc:307: Dataset contains only positive or negative samples.\n",
      "[180]\tvalidation_0-auc:nan\n",
      "[11:00:04] WARNING: ../src/metric/auc.cc:307: Dataset contains only positive or negative samples.\n",
      "[181]\tvalidation_0-auc:nan\n",
      "[11:00:04] WARNING: ../src/metric/auc.cc:307: Dataset contains only positive or negative samples.\n",
      "[182]\tvalidation_0-auc:nan\n",
      "[11:00:04] WARNING: ../src/metric/auc.cc:307: Dataset contains only positive or negative samples.\n",
      "[183]\tvalidation_0-auc:nan\n",
      "[11:00:04] WARNING: ../src/metric/auc.cc:307: Dataset contains only positive or negative samples.\n",
      "[184]\tvalidation_0-auc:nan\n",
      "[11:00:04] WARNING: ../src/metric/auc.cc:307: Dataset contains only positive or negative samples.\n",
      "[185]\tvalidation_0-auc:nan\n",
      "[11:00:04] WARNING: ../src/metric/auc.cc:307: Dataset contains only positive or negative samples.\n",
      "[186]\tvalidation_0-auc:nan\n",
      "[11:00:04] WARNING: ../src/metric/auc.cc:307: Dataset contains only positive or negative samples.\n",
      "[187]\tvalidation_0-auc:nan\n",
      "[11:00:04] WARNING: ../src/metric/auc.cc:307: Dataset contains only positive or negative samples.\n",
      "[188]\tvalidation_0-auc:nan\n",
      "[11:00:04] WARNING: ../src/metric/auc.cc:307: Dataset contains only positive or negative samples.\n",
      "[189]\tvalidation_0-auc:nan\n",
      "[11:00:04] WARNING: ../src/metric/auc.cc:307: Dataset contains only positive or negative samples.\n",
      "[190]\tvalidation_0-auc:nan\n",
      "[11:00:04] WARNING: ../src/metric/auc.cc:307: Dataset contains only positive or negative samples.\n",
      "[191]\tvalidation_0-auc:nan\n",
      "[11:00:05] WARNING: ../src/metric/auc.cc:307: Dataset contains only positive or negative samples.\n",
      "[192]\tvalidation_0-auc:nan\n",
      "[11:00:05] WARNING: ../src/metric/auc.cc:307: Dataset contains only positive or negative samples.\n",
      "[193]\tvalidation_0-auc:nan\n",
      "[11:00:05] WARNING: ../src/metric/auc.cc:307: Dataset contains only positive or negative samples.\n",
      "[194]\tvalidation_0-auc:nan\n",
      "[11:00:05] WARNING: ../src/metric/auc.cc:307: Dataset contains only positive or negative samples.\n",
      "[195]\tvalidation_0-auc:nan\n",
      "[11:00:05] WARNING: ../src/metric/auc.cc:307: Dataset contains only positive or negative samples.\n",
      "[196]\tvalidation_0-auc:nan\n",
      "[11:00:05] WARNING: ../src/metric/auc.cc:307: Dataset contains only positive or negative samples.\n",
      "[197]\tvalidation_0-auc:nan\n",
      "[11:00:05] WARNING: ../src/metric/auc.cc:307: Dataset contains only positive or negative samples.\n",
      "[198]\tvalidation_0-auc:nan\n"
     ]
    },
    {
     "name": "stdout",
     "output_type": "stream",
     "text": [
      "[11:00:05] WARNING: ../src/metric/auc.cc:307: Dataset contains only positive or negative samples.\n",
      "[199]\tvalidation_0-auc:nan\n"
     ]
    },
    {
     "data": {
      "text/plain": [
       "0.7788461538461539"
      ]
     },
     "execution_count": 11,
     "metadata": {},
     "output_type": "execute_result"
    }
   ],
   "source": [
    "clf = XGBC(n_estimators=200 #27\n",
    "           ,random_state=420\n",
    "           ,use_label_encoder=False\n",
    "           ,eval_metric='auc'\n",
    "           ,max_depth=6  #5\n",
    "           ,objective='multi:softmax'\n",
    "           ,num_class=4\n",
    "           ,tree_method='gpu_hist'\n",
    "          )\n",
    "\n",
    "\n",
    "clf.fit(Xtrain,Ytrain,eval_set=[(Xval,Yval)])\n",
    "# clf.fit(Xtrain,Ytrain)\n",
    "clf.score(Xval,Yval)"
   ]
  },
  {
   "cell_type": "code",
   "execution_count": null,
   "id": "418e927f",
   "metadata": {},
   "outputs": [],
   "source": []
  }
 ],
 "metadata": {
  "kernelspec": {
   "display_name": "Python [conda env:opencv]",
   "language": "python",
   "name": "conda-env-opencv-py"
  },
  "language_info": {
   "codemirror_mode": {
    "name": "ipython",
    "version": 3
   },
   "file_extension": ".py",
   "mimetype": "text/x-python",
   "name": "python",
   "nbconvert_exporter": "python",
   "pygments_lexer": "ipython3",
   "version": "3.6.13"
  },
  "toc": {
   "base_numbering": 1,
   "nav_menu": {},
   "number_sections": true,
   "sideBar": true,
   "skip_h1_title": false,
   "title_cell": "Table of Contents",
   "title_sidebar": "Contents",
   "toc_cell": false,
   "toc_position": {},
   "toc_section_display": true,
   "toc_window_display": false
  }
 },
 "nbformat": 4,
 "nbformat_minor": 5
}
